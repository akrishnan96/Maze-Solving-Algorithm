{
 "cells": [
  {
   "cell_type": "markdown",
   "metadata": {},
   "source": [
    "# Table of Contents"
   ]
  },
  {
   "cell_type": "markdown",
   "metadata": {},
   "source": [
    "1. [Creating a Maze using Randomized Prim's Algorithm](#Creating-a-Maze-using-Randomized-Prim's-Algorithm)\n",
    "2. [Solving the Maze using BFS](#Solving-the-Maze-using-BFS)\n",
    "3. [Solving the Maze using DFS](#Solving-the-Maze-using-DFS)\n",
    "4. [Solving the Maze using DIJKSTRA'S](#Solving-the-Maze-using-DIJKSTRA'S)\n",
    "5. [Comparison of the Algorithms](#Comparison-of-the-Algorithms)"
   ]
  },
  {
   "cell_type": "markdown",
   "metadata": {},
   "source": [
    "***\n",
    "# Creating a Maze using Randomized Prim's Algorithm\n",
    "\n",
    "Prim's algorithm is a greedy algorithm that finds a minimum spanning tree for a weighted undirected graph. This means it finds a subset of the edges that forms a tree that includes every vertex, where the total weight of all the edges in the tree is minimized. The algorithm operates by building this tree one vertex at a time, from an arbitrary starting vertex, at each step adding the cheapest possible connection from the tree to another vertex.\n",
    "\n",
    "### General Prim's Algorithm: \n",
    "1. T = ∅;\n",
    "2. List of vertices that have been visited (U) = { 1 };\n",
    "3. While (U ≠ V) where V is the set of all vertices\n",
    "    1. Let (u, v) be the lowest cost edge such that u ∈ U and v ∈ V - U;\n",
    "    2. T = T ∪ {(u, v)}\n",
    "    3. U = U ∪ {v}\n",
    "\n",
    "This would give the Minimum Spanning Tree which is essentially the path across the maze as well as additional walls for the maze \n",
    "\n",
    "\n",
    "##### The algorithm to build the maze:\n",
    "1. An initialized maze of n rows and m columns is created based on the user’s input \n",
    "2. Choose a randomized starting point depending on the dimensions of the maze and set it to 1\n",
    "3. Build walls around these points\n",
    "4. A random wall is chosen from themthe already present walls\n",
    "5. If one of the two coordinates that the wall divides is passed through then \n",
    "    1. The unvisited cell would be marked and it becomes part of the maze and the wall gets added onto as a path\n",
    "    2. Neighbouring walls of this cell would get added on to the list of walls and the previous wall is then removed from the list \n",
    "6. Repeat step 5 until the end point of the maze is reached\n",
    "\n",
    "*By Akshay Krishnan*"
   ]
  },
  {
   "cell_type": "code",
   "execution_count": 158,
   "metadata": {},
   "outputs": [],
   "source": [
    "#Importing the necessary packages\n",
    "import random\n",
    "import time"
   ]
  },
  {
   "cell_type": "code",
   "execution_count": 159,
   "metadata": {},
   "outputs": [],
   "source": [
    "# We need to make sure that every wall that we are going to move into, does not have more than one cell around it.\n",
    "#This function helps us do that\n",
    "\n",
    "# Find number of surrounding cells\n",
    "def surroundingcell_count(maze,wall):\n",
    "    cell_count = 0\n",
    "    if (maze[wall[0]-1][wall[1]] == '1'):\n",
    "        cell_count = cell_count + 1\n",
    "    if (maze[wall[0]+1][wall[1]] == '1'):\n",
    "        cell_count = cell_count + 1\n",
    "    if (maze[wall[0]][wall[1]-1] == '1'):\n",
    "        cell_count = cell_count + 1\n",
    "    if (maze[wall[0]][wall[1]+1] == '1'):\n",
    "        cell_count = cell_count + 1\n",
    "    return cell_count"
   ]
  },
  {
   "cell_type": "code",
   "execution_count": 160,
   "metadata": {},
   "outputs": [],
   "source": [
    "def build_maze(x,y):\n",
    "    \"\"\"\n",
    "    X is the Width of the maze and Y is the height of the maze\n",
    "    \n",
    "    \"\"\"\n",
    "\n",
    "    maze = []\n",
    "    \n",
    "    # Initalise the maze with height and width.\n",
    "    for i in range(0, x):\n",
    "        row = []\n",
    "        for j in range(0, y):\n",
    "            row.append('2')\n",
    "        maze.append(row)\n",
    "    \n",
    "    # Set a randomized starting point for the maze\n",
    "    s_x = int(random.random()*x)\n",
    "    s_y = int(random.random()*y)\n",
    "    \n",
    "    #conditions to modify the starting point so that we dont start on a point at the edge of the maze\n",
    "    if (s_x == 0):\n",
    "         s_x = s_x + 1\n",
    "    if (s_x == x-1):\n",
    "        s_x = s_x - 1\n",
    "    if (s_y == 0):\n",
    "        s_y = s_y + 1\n",
    "    if (s_y == y -1):\n",
    "        s_y = s_y - 1  \n",
    "    \n",
    "    # Mark this point as a cell and add surrounding walls to the cell\n",
    "    maze[s_x][s_y] = '1'\n",
    "    walls = []\n",
    "    walls = walls + [[s_x - 1, s_y]] + [[s_x, s_y - 1]] + [[s_x, s_y + 1]]+ [[s_x + 1, s_y]]\n",
    "    \n",
    "    #Set walls around this cell\n",
    "    for i in walls:\n",
    "        maze[i[0]][i[1]] = '0'\n",
    "        \n",
    "        \n",
    "    #We need to make sure that the surrounding cells around the wall are less than 2 otherwise the maze might get complex.\n",
    "    #So the check needs to be done for each type of wall (left,right,bottom or upper)\n",
    "\n",
    "    while (walls):\n",
    "        # Pick a random wall\n",
    "        rand_wall = walls[int(random.random()*len(walls))-1]\n",
    "\n",
    "        # Check if it is a left wall\n",
    "        if (rand_wall[1] != 0):\n",
    "            if (maze[rand_wall[0]][rand_wall[1]-1] == '2' and maze[rand_wall[0]][rand_wall[1]+1] == '1'):\n",
    "                # Find the number of surrounding cells\n",
    "                s_cells = surroundingcell_count(maze,rand_wall)\n",
    "\n",
    "                if (s_cells < 2):\n",
    "                    # Denote the new path\n",
    "                    maze[rand_wall[0]][rand_wall[1]] = '1'\n",
    "\n",
    "                    # Mark the new walls\n",
    "                    # Upper cell\n",
    "                    if (rand_wall[0] != 0):\n",
    "                        if (maze[rand_wall[0]-1][rand_wall[1]] != '1'):\n",
    "                            maze[rand_wall[0]-1][rand_wall[1]] = '0'\n",
    "                        if ([rand_wall[0]-1, rand_wall[1]] not in walls):\n",
    "                            walls.append([rand_wall[0]-1, rand_wall[1]])\n",
    "\n",
    "\n",
    "                    # Bottom cell\n",
    "                    if (rand_wall[0] != x-1):\n",
    "                        if (maze[rand_wall[0]+1][rand_wall[1]] != '1'):\n",
    "                            maze[rand_wall[0]+1][rand_wall[1]] = '0'\n",
    "                        if ([rand_wall[0]+1, rand_wall[1]] not in walls):\n",
    "                            walls.append([rand_wall[0]+1, rand_wall[1]])\n",
    "\n",
    "                    # Leftmost cell\n",
    "                    if (rand_wall[1] != 0):\t\n",
    "                        if (maze[rand_wall[0]][rand_wall[1]-1] != '1'):\n",
    "                            maze[rand_wall[0]][rand_wall[1]-1] = '0'\n",
    "                        if ([rand_wall[0], rand_wall[1]-1] not in walls):\n",
    "                            walls.append([rand_wall[0], rand_wall[1]-1])\n",
    "\n",
    "\n",
    "                # Delete wall\n",
    "                for wall in walls:\n",
    "                    if (wall[0] == rand_wall[0] and wall[1] == rand_wall[1]):\n",
    "                        walls.remove(wall)\n",
    "\n",
    "                continue\n",
    "\n",
    "        # Check if it is an upper wall\n",
    "        if (rand_wall[0] != 0):\n",
    "            if (maze[rand_wall[0]-1][rand_wall[1]] == '2' and maze[rand_wall[0]+1][rand_wall[1]] == '1'):\n",
    "\n",
    "                s_cells = surroundingcell_count(maze,rand_wall)\n",
    "                if (s_cells < 2):\n",
    "                    # Denote the new path\n",
    "                    maze[rand_wall[0]][rand_wall[1]] = '1'\n",
    "\n",
    "                    # Mark the new walls\n",
    "                    # Upper cell\n",
    "                    if (rand_wall[0] != 0):\n",
    "                        if (maze[rand_wall[0]-1][rand_wall[1]] != '1'):\n",
    "                            maze[rand_wall[0]-1][rand_wall[1]] = '0'\n",
    "                        if ([rand_wall[0]-1, rand_wall[1]] not in walls):\n",
    "                            walls.append([rand_wall[0]-1, rand_wall[1]])\n",
    "\n",
    "                    # Leftmost cell\n",
    "                    if (rand_wall[1] != 0):\n",
    "                        if (maze[rand_wall[0]][rand_wall[1]-1] != '1'):\n",
    "                            maze[rand_wall[0]][rand_wall[1]-1] = '0'\n",
    "                        if ([rand_wall[0], rand_wall[1]-1] not in walls):\n",
    "                            walls.append([rand_wall[0], rand_wall[1]-1])\n",
    "\n",
    "                    # Rightmost cell\n",
    "                    if (rand_wall[1] != y-1):\n",
    "                        if (maze[rand_wall[0]][rand_wall[1]+1] != '1'):\n",
    "                            maze[rand_wall[0]][rand_wall[1]+1] = '0'\n",
    "                        if ([rand_wall[0], rand_wall[1]+1] not in walls):\n",
    "                            walls.append([rand_wall[0], rand_wall[1]+1])\n",
    "\n",
    "                # Delete wall\n",
    "                for wall in walls:\n",
    "                    if (wall[0] == rand_wall[0] and wall[1] == rand_wall[1]):\n",
    "                        walls.remove(wall)\n",
    "\n",
    "                continue\n",
    "\n",
    "        # Check the bottom wall\n",
    "        if (rand_wall[0] != x-1):\n",
    "            if (maze[rand_wall[0]+1][rand_wall[1]] == '2' and maze[rand_wall[0]-1][rand_wall[1]] == '1'):\n",
    "\n",
    "                s_cells = surroundingcell_count(maze,rand_wall)\n",
    "                if (s_cells < 2):\n",
    "                    # Denote the new path\n",
    "                    maze[rand_wall[0]][rand_wall[1]] = '1'\n",
    "\n",
    "                    # Mark the new walls\n",
    "                    if (rand_wall[0] != x-1):\n",
    "                        if (maze[rand_wall[0]+1][rand_wall[1]] != '1'):\n",
    "                            maze[rand_wall[0]+1][rand_wall[1]] = '0'\n",
    "                        if ([rand_wall[0]+1, rand_wall[1]] not in walls):\n",
    "                            walls.append([rand_wall[0]+1, rand_wall[1]])\n",
    "                    if (rand_wall[1] != 0):\n",
    "                        if (maze[rand_wall[0]][rand_wall[1]-1] != '1'):\n",
    "                            maze[rand_wall[0]][rand_wall[1]-1] = '0'\n",
    "                        if ([rand_wall[0], rand_wall[1]-1] not in walls):\n",
    "                            walls.append([rand_wall[0], rand_wall[1]-1])\n",
    "                    if (rand_wall[1] != y-1):\n",
    "                        if (maze[rand_wall[0]][rand_wall[1]+1] != '1'):\n",
    "                            maze[rand_wall[0]][rand_wall[1]+1] = '0'\n",
    "                        if ([rand_wall[0], rand_wall[1]+1] not in walls):\n",
    "                            walls.append([rand_wall[0], rand_wall[1]+1])\n",
    "\n",
    "                # Delete wall\n",
    "                for wall in walls:\n",
    "                    if (wall[0] == rand_wall[0] and wall[1] == rand_wall[1]):\n",
    "                        walls.remove(wall)\n",
    "\n",
    "\n",
    "                continue\n",
    "\n",
    "        # Check the right wall\n",
    "        if (rand_wall[1] != y-1):\n",
    "            if (maze[rand_wall[0]][rand_wall[1]+1] == '2' and maze[rand_wall[0]][rand_wall[1]-1] == '1'):\n",
    "\n",
    "                s_cells = surroundingcell_count(maze,rand_wall)\n",
    "                if (s_cells < 2):\n",
    "                    # Denote the new path\n",
    "                    maze[rand_wall[0]][rand_wall[1]] = '1'\n",
    "\n",
    "                    # Mark the new walls\n",
    "                    if (rand_wall[1] != y-1):\n",
    "                        if (maze[rand_wall[0]][rand_wall[1]+1] != '1'):\n",
    "                            maze[rand_wall[0]][rand_wall[1]+1] = '0'\n",
    "                        if ([rand_wall[0], rand_wall[1]+1] not in walls):\n",
    "                            walls.append([rand_wall[0], rand_wall[1]+1])\n",
    "                    if (rand_wall[0] != x-1):\n",
    "                        if (maze[rand_wall[0]+1][rand_wall[1]] != '1'):\n",
    "                            maze[rand_wall[0]+1][rand_wall[1]] = '0'\n",
    "                        if ([rand_wall[0]+1, rand_wall[1]] not in walls):\n",
    "                            walls.append([rand_wall[0]+1, rand_wall[1]])\n",
    "                    if (rand_wall[0] != 0):\t\n",
    "                        if (maze[rand_wall[0]-1][rand_wall[1]] != '1'):\n",
    "                            maze[rand_wall[0]-1][rand_wall[1]] = '0'\n",
    "                        if ([rand_wall[0]-1, rand_wall[1]] not in walls):\n",
    "                            walls.append([rand_wall[0]-1, rand_wall[1]])\n",
    "\n",
    "                # Delete wall\n",
    "                for wall in walls:\n",
    "                    if (wall[0] == rand_wall[0] and wall[1] == rand_wall[1]):\n",
    "                        walls.remove(wall)\n",
    "\n",
    "                continue\n",
    "\n",
    "        # Delete the wall from the list anyway\n",
    "        for wall in walls:\n",
    "            if (wall[0] == rand_wall[0] and wall[1] == rand_wall[1]):\n",
    "                walls.remove(wall)\n",
    "\n",
    "    # Mark the remaining unvisited cells as walls\n",
    "    for i in range(0, x):\n",
    "        for j in range(0, y):\n",
    "            if (maze[i][j] == '2'):\n",
    "                maze[i][j] = '0'\n",
    "\n",
    "    # Set entrance for the maze\n",
    "    for i in range(0, y):\n",
    "        if (maze[1][i] == '1'):\n",
    "            maze[0][i] = '1'\n",
    "            break\n",
    "            \n",
    "    # Set exit for the maze\n",
    "    for i in range(y-1, 0, -1):\n",
    "        if (maze[x-2][i] == '1'):\n",
    "            maze[x-1][i] = '1'\n",
    "            break\n",
    "    \n",
    "    return maze"
   ]
  },
  {
   "cell_type": "markdown",
   "metadata": {},
   "source": [
    "**Runtime for Prim's Algorithm** \n",
    "\n",
    "Time complexity is O(V^2) since we used an adjacency matrix."
   ]
  },
  {
   "cell_type": "code",
   "execution_count": 161,
   "metadata": {},
   "outputs": [
    {
     "data": {
      "text/plain": [
       "[['0', '0', '1', '0', '0'],\n",
       " ['0', '0', '1', '1', '0'],\n",
       " ['0', '1', '1', '0', '0'],\n",
       " ['0', '1', '0', '0', '0'],\n",
       " ['0', '1', '0', '0', '0']]"
      ]
     },
     "execution_count": 161,
     "metadata": {},
     "output_type": "execute_result"
    }
   ],
   "source": [
    "build_maze(5,5)"
   ]
  },
  {
   "cell_type": "code",
   "execution_count": 162,
   "metadata": {},
   "outputs": [
    {
     "data": {
      "text/plain": [
       "[['0', '1', '0', '0', '0', '0', '0', '0', '0', '0'],\n",
       " ['0', '1', '1', '1', '1', '1', '1', '0', '1', '0'],\n",
       " ['0', '0', '0', '0', '0', '0', '1', '0', '1', '0'],\n",
       " ['0', '1', '1', '0', '0', '1', '1', '0', '1', '0'],\n",
       " ['0', '0', '1', '0', '0', '0', '1', '0', '1', '0'],\n",
       " ['0', '0', '1', '0', '1', '0', '1', '0', '1', '0'],\n",
       " ['0', '1', '1', '1', '1', '0', '1', '1', '1', '0'],\n",
       " ['0', '0', '1', '0', '1', '1', '1', '0', '1', '0'],\n",
       " ['0', '1', '1', '0', '0', '1', '0', '0', '1', '0'],\n",
       " ['0', '0', '0', '0', '0', '0', '0', '0', '1', '0']]"
      ]
     },
     "execution_count": 162,
     "metadata": {},
     "output_type": "execute_result"
    }
   ],
   "source": [
    "build_maze(10,10)"
   ]
  },
  {
   "cell_type": "markdown",
   "metadata": {},
   "source": [
    "### Proof of Correctness \n",
    "\n",
    "**Proof by induction**\n",
    "\n",
    "Proof: Let G = (V,E) be a weighted, connected graph. Let T be the edge set that is grown in Prim's algorithm. The proof is by mathematical induction on the number of edges in T and using the MST Lemma.\n",
    "\n",
    "Basis: The empty set $ \\phi$ is promising since a connected, weighted graph always has at least one MST.\n",
    "\n",
    "Induction Step: Assume that T is promising just before the algorithm adds a new edge e = (u,v). Let U be the set of nodes grown in Prim's algorithm. Then all three conditions in the MST Lemma are satisfied and therefore T U e is also promising.\n",
    "\n",
    "When the algorithm stops, U includes all vertices of the graph and hence T is a spanning tree. Since T is also promising, it will be a MST. "
   ]
  },
  {
   "cell_type": "markdown",
   "metadata": {},
   "source": [
    "----------------------------"
   ]
  },
  {
   "cell_type": "markdown",
   "metadata": {},
   "source": [
    "***\n",
    "# Solving the Maze using BFS\n",
    "\n",
    "Breadth-First Search (BFS) is an important graph search algorithm that is used to solve many problems finding the shortest path in a graph. You start from a selected node and traverse the graph layerwise, meaning you explore the neighbor nodes (directly connected to the source). Then you move to the next layer. \n",
    "\n",
    "### General BFS Algorithm: \n",
    "1. let Q be a queue\n",
    "2. label the root as explored\n",
    "3. Q.enqueue(root)\n",
    "4. while Q is not empty:\n",
    "    1. v := Q.dequeue()\n",
    "    2. if v is the goal then\n",
    "        1. return v\n",
    "    3. for all edges from v to w in G.adjacent(v):\n",
    "        1. if w is not labeled as explored then:\n",
    "            1. label w as explored\n",
    "            2. Q.enqueue(w)\n",
    "\n",
    "    Using the build_maze algorithm we get a random maze made up of a n * m matrix with 1's for spaces and 0's for walls\n",
    "\n",
    "##### The algorithm to solve this maze:\n",
    "1. We find the start and end point of the given maze\n",
    "2. We are given a maze from our randomized maze function \n",
    "3. We create a new maze matrix of the same size that will be used to solve the maze given\n",
    "    1. We create a maze with zeros of the same size\n",
    "4. Put a 1 at our starting point that matches the starting point of the given maze\n",
    "    1. Everywhere around 1 we put a 2 if there is no wall\n",
    "    2. Everywhere around 2 we put a 3 if there is no wall and so on\n",
    "    3. Once we put a number at the end point we stop \n",
    "5. Use *BFS* to find the shortest path in our solved maze matrix\n",
    "    1. Go to the endpoint of the maze (the exit of the maze)\n",
    "    2. look at the neighboring cell with a k-1 value, decrease k by one\n",
    "    3. repeat until we get to the starting point\n",
    "\n",
    "\n",
    "\n",
    "*By Alexis Florence*"
   ]
  },
  {
   "cell_type": "markdown",
   "metadata": {},
   "source": [
    "### Helper Methods\n",
    "\n",
    "find_start_end\n",
    "\n"
   ]
  },
  {
   "cell_type": "code",
   "execution_count": 163,
   "metadata": {},
   "outputs": [],
   "source": [
    "# FIND THE START AND ENDPOINT OF THE RANDOM MAZE\n",
    "\n",
    "def find_start_end(maze):\n",
    "    start = 0,0\n",
    "    end = 0,0\n",
    "    # loop through the maze to find our start and end\n",
    "    for i in range(0,len(maze)): #rows\n",
    "        for j in range(0,len(maze[i])): #columns\n",
    "            if i == 0:\n",
    "                if maze[0][j] == '1':\n",
    "                    start = i,j\n",
    "            elif i == len(maze) - 1:\n",
    "                if maze[len(maze) - 1][j] == '1':\n",
    "                    end = i,j\n",
    "    return start, end\n",
    "\n",
    "        "
   ]
  },
  {
   "cell_type": "markdown",
   "metadata": {},
   "source": [
    "## SOLVING MAZE USING BFS"
   ]
  },
  {
   "cell_type": "code",
   "execution_count": 164,
   "metadata": {},
   "outputs": [],
   "source": [
    "# PRINT THE FINAL MAZE SOLUTION\n",
    "\n",
    "def bfs_path(maze, start, end):\n",
    "\n",
    "    # create_new_solved_maze\n",
    "    solved_maze = []\n",
    "    for i in range(len(maze)):\n",
    "        solved_maze.append([])\n",
    "        for j in range(len(maze[i])):\n",
    "            solved_maze[-1].append(0)\n",
    "\n",
    "    i,j = start\n",
    "    solved_maze[i][j] = 1\n",
    "\n",
    "    # STEP THROUGH THE MAZE\n",
    "    k = 0\n",
    "    while solved_maze[end[0]][end[1]] == 0:\n",
    "        k += 1\n",
    "        for i in range(len(solved_maze)):\n",
    "            for j in range(len(solved_maze[i])):\n",
    "            # if the cell corresponds to the letter k (the step through the maze that we are on)\n",
    "                if solved_maze[i][j] == k:\n",
    "                    # if there is a row above, if the spot above has not been visited, and the original maze isn't a wall above\n",
    "                    if i > 0 and solved_maze[i - 1][j] == 0 and maze[i-1][j] == '1':\n",
    "                        solved_maze[i - 1][j] = k + 1\n",
    "                    # if there is a column to the left, if the spot to the left has not been visisted, and the original maze isn't a wall there\n",
    "                    if j > 0 and solved_maze[i][j-1] == 0 and maze[i][j-1] == '1':\n",
    "                        solved_maze[i][j - 1] = k + 1\n",
    "                    # if there is a row below and it has not been visited yet, and the original maze is not a wall\n",
    "                    if i < len(solved_maze) - 1 and solved_maze[i + 1][j] == 0 and maze[i + 1][j] == '1':\n",
    "                        solved_maze[i+1][j] = k + 1\n",
    "                    if j < len(solved_maze[i]) - 1 and solved_maze[i][j + 1] == 0 and maze[i][j +1 ] == '1':\n",
    "                        solved_maze[i][j + 1] = k + 1\n",
    "\n",
    "    # USE BFS TO FIND THE SHORTEST PATH THROUGH THE MAZE    \n",
    "    i, j = end\n",
    "    k = solved_maze[i][j]\n",
    "    # we start at the end of the maze\n",
    "    # the path is our queue data structure \n",
    "    the_path = [(i,j)]\n",
    "    # while the cell we are in are not the start:\n",
    "    while k > 1:\n",
    "        if i > 0 and solved_maze[i - 1][j] == k - 1:\n",
    "            i, j = i-1, j\n",
    "            the_path.append((i, j))\n",
    "            k-=1\n",
    "        elif j > 0 and solved_maze[i][j - 1] == k - 1:\n",
    "            i, j = i, j-1\n",
    "            the_path.append((i, j))\n",
    "            k-=1\n",
    "        elif i < len(solved_maze) - 1 and solved_maze[i + 1][j] == k - 1:\n",
    "            i, j = i+1, j\n",
    "            the_path.append((i, j))\n",
    "            k-=1\n",
    "        elif j < len(solved_maze[i]) - 1 and solved_maze[i][j + 1] == k - 1:\n",
    "            i, j = i, j+1\n",
    "            the_path.append((i, j))\n",
    "            k -= 1\n",
    "\n",
    "\n",
    "\n",
    "    final_maze_solution = []\n",
    "    i = 0\n",
    "    j = 0\n",
    "\n",
    "    for i in range(len(maze)):\n",
    "        final_maze_solution.append([])\n",
    "        for j in range(len(maze[i])):\n",
    "            final_maze_solution[-1].append(0)\n",
    "\n",
    "    for i in range(len(solved_maze)):\n",
    "        for j in range(len(solved_maze[i])):\n",
    "            if (i,j) in the_path:\n",
    "                final_maze_solution[i][j] = 1\n",
    "            else: \n",
    "                final_maze_solution[i][j] = 0\n",
    "\n",
    "    for i in range(0,len(final_maze_solution)):\n",
    "        print(final_maze_solution[i])   "
   ]
  },
  {
   "cell_type": "code",
   "execution_count": 165,
   "metadata": {},
   "outputs": [
    {
     "name": "stdout",
     "output_type": "stream",
     "text": [
      "0  1  0  0  0\n",
      "0  1  1  1  0\n",
      "0  1  0  0  0\n",
      "0  1  1  1  0\n",
      "0  0  0  1  0\n"
     ]
    }
   ],
   "source": [
    "maze = build_maze(5,5)\n",
    "for line in maze:\n",
    "    print ('  '.join(map(str, line)))\n",
    "\n",
    "start, end = find_start_end(maze)\n",
    "\n"
   ]
  },
  {
   "cell_type": "code",
   "execution_count": 166,
   "metadata": {},
   "outputs": [
    {
     "name": "stdout",
     "output_type": "stream",
     "text": [
      "[0, 1, 0, 0, 0]\n",
      "[0, 1, 0, 0, 0]\n",
      "[0, 1, 0, 0, 0]\n",
      "[0, 1, 1, 1, 0]\n",
      "[0, 0, 0, 1, 0]\n"
     ]
    }
   ],
   "source": [
    "bfs_path(maze,start,end)"
   ]
  },
  {
   "cell_type": "markdown",
   "metadata": {},
   "source": [
    "**Runtime for BFS Algorithm** \n",
    "\n",
    "Time complexity for our BFS algorithm is O(m^2)\n",
    "\n",
    "Because we are using a adjacency matrix\n"
   ]
  },
  {
   "cell_type": "markdown",
   "metadata": {},
   "source": [
    "### Proof of Correctness \n",
    "**Proof by induction**\n",
    "\n",
    "In our proof we want to prove that all vertices of the layer k, and their distances from k to the source, enter the queue before all the vertices in the next layer of search that would be for example k - 1. \n",
    "\n",
    "Our proof starts where k = end, or at our exit point for the maze, the entrance is denoted with a number 1 and our exit is denoted by the varaible 'end' that we determined in the function find_start_end. For the interest of our proof let's call this s for source. \n",
    "\n",
    "For the value k. We need to show that the initial claim above holds. We shall see that all the layers k - 1 vertices (since we start at the end we are going to back track which means we subtract from k) enter the queue before the k - 2 vertices. \n",
    "\n",
    "Let u be a vertiex in the layer k - 1, and v be a vertex in the next layer k - 2. There should be vertices u_1 and v_1 in layers k and k - 1, so that (u_1, u), (v_1, v) are the edges. Through our hypothesis , u_1 will enter the queue before v_1 ( or any other vertex in the layer k - 1 that has v as a neighbor)\n",
    "\n",
    "When the algorithm scans u_1, or even before, u will enter the queue. This implies that u enters the queue before v (as no v_1 vertex with (v_1, v) edge can have been scanned yet, by the induction hypothesis)\n",
    "\n",
    "Let u be a vertex in layer k - 1. u has a vertex v, so that (v,u) is an edge and v belongers to the k layer. The vertex v enters the queue before u an dbefore other neighbors of u further from s or the end. When v is scanned u is unlabeled by k - 1. \n",
    "\n",
    "\n",
    "***"
   ]
  },
  {
   "cell_type": "markdown",
   "metadata": {},
   "source": [
    "## Solving the Maze using DFS"
   ]
  },
  {
   "cell_type": "code",
   "execution_count": 167,
   "metadata": {},
   "outputs": [],
   "source": [
    "def dfs_path(maze,start,end):\n",
    "    \n",
    "    #Get the number of rows and columns of the maze\n",
    "    rows = len(maze)\n",
    "    columns = len(maze[0])\n",
    "    \n",
    "    #Creating a dictionary containing the points in the maze and its neighbouring walls/cells in all directions\n",
    "    map_dict = {}\n",
    "    for i in range(rows):\n",
    "        for j in range(columns):\n",
    "            if i == 0:\n",
    "                n_val = 0\n",
    "            else:\n",
    "                n_val = int(maze[i-1][j])\n",
    "            if j == 0:\n",
    "                w_val = 0\n",
    "            else:\n",
    "                w_val = int(maze[i][j-1])\n",
    "            if j == columns-1 :\n",
    "                e_val = 0\n",
    "            else:\n",
    "                e_val = int(maze[i][j+1])    \n",
    "            if i == rows-1 :\n",
    "                s_val = 0\n",
    "            else:\n",
    "                s_val = int(maze[i+1][j])  \n",
    "\n",
    "            map_dict[(i,j)] = {'N':n_val,'S': s_val,'W': w_val,'E' : e_val}\n",
    "            \n",
    "    #Create a list for visited nodes and also another one to update along the way\n",
    "    visited = [start]\n",
    "    check = [start]\n",
    "    \n",
    "    #Create a dictionary for the final path\n",
    "    final_path = {}\n",
    "    \n",
    "    #Check along the path and update the path based on whether it is visited or not\n",
    "    while len(check)>0:\n",
    "        current = check.pop()\n",
    "        if current == end:\n",
    "            break\n",
    "        for direction in 'NSWE':\n",
    "            if map_dict[current][direction] == True:\n",
    "                if direction == 'N':\n",
    "                    previous = (current[0] - 1, current[1])\n",
    "                if direction == 'S':\n",
    "                    previous = (current[0] + 1, current[1])\n",
    "                if direction == 'W':\n",
    "                    previous = (current[0], current[1] - 1)\n",
    "                if direction == 'E':\n",
    "                    previous = (current[0], current[1] + 1)\n",
    "                if previous in visited:\n",
    "                    continue\n",
    "                visited.append(previous)\n",
    "                check.append(previous)\n",
    "                final_path[previous] = current\n",
    "    fwd_path = {}\n",
    "    cell = end\n",
    "    while cell != start:\n",
    "        fwd_path[final_path[cell]] = cell\n",
    "        cell = final_path[cell]    \n",
    "    \n",
    "    #Create another maze to show the final paths\n",
    "    dfs_maze = [[0 for i in range(columns)] for i in range(rows)]\n",
    "\n",
    "    #Removing duplicates from all the nodes in the final path\n",
    "    dfs_maze_path = list(set(list(fwd_path.keys()) + list(fwd_path.values())))\n",
    "    \n",
    "    #Based on the final graph create a new maze with only the solution to the maze \n",
    "    for i in range(len(dfs_maze_path)):\n",
    "        dfs_maze[dfs_maze_path[i][0]][dfs_maze_path[i][1]] = 1\n",
    "    \n",
    "    #Print the Maze\n",
    "    for line in dfs_maze:\n",
    "        print ('  '.join(map(str, line)))"
   ]
  },
  {
   "cell_type": "markdown",
   "metadata": {},
   "source": [
    "### Get Random Maze"
   ]
  },
  {
   "cell_type": "code",
   "execution_count": 168,
   "metadata": {},
   "outputs": [
    {
     "name": "stdout",
     "output_type": "stream",
     "text": [
      "0  0  1  0  0\n",
      "0  0  1  0  0\n",
      "0  1  1  1  0\n",
      "0  1  0  1  0\n",
      "0  0  0  1  0\n"
     ]
    }
   ],
   "source": [
    "# BUILD OUR RANDOM MAZE\n",
    "\n",
    "maze = build_maze(5,5)\n",
    "for line in maze:\n",
    "    print ('  '.join(map(str, line)))"
   ]
  },
  {
   "cell_type": "code",
   "execution_count": 169,
   "metadata": {},
   "outputs": [],
   "source": [
    "start = (0,1)\n",
    "end = (4,3)"
   ]
  },
  {
   "cell_type": "markdown",
   "metadata": {},
   "source": [
    "#### Run the DFS on the maze to see the Path "
   ]
  },
  {
   "cell_type": "code",
   "execution_count": 170,
   "metadata": {},
   "outputs": [
    {
     "name": "stdout",
     "output_type": "stream",
     "text": [
      "0  1  1  0  0\n",
      "0  0  1  0  0\n",
      "0  0  1  1  0\n",
      "0  0  0  1  0\n",
      "0  0  0  1  0\n"
     ]
    }
   ],
   "source": [
    "dfs_path(maze,start,end)"
   ]
  },
  {
   "cell_type": "markdown",
   "metadata": {},
   "source": [
    "**Runtime for DFS Algorithm** \n",
    "\n",
    "Time complexity for our DFS algorithm is O(n^2) since an adjacency matrix is used\n"
   ]
  },
  {
   "cell_type": "markdown",
   "metadata": {},
   "source": [
    "### Proof of Correctness \n",
    "\n",
    "**Proof by induction**\n",
    "\n",
    "Proof: Prove that all vertices of a branch k and their distances from k to the source node enter the stack before all the vertices in the next branch which means it explores the branch as far as possible before backtracking to another branch, L.\n",
    "\n",
    "For the value of k. We need to show that the initial claim above holds. We shall see that all the vertices of the branches k are visited and then L branch is visited, after backtracking from the branch k.\n",
    "\n",
    "Let u be the vertex in the branch L and v be the vertex in the next branch M. There should be vertices u_1, u_2 in branch K and v_1 in branch L such that (u_1, u), (u_2, u) and (v_1, v) are the edges.\n",
    "\n",
    "\n",
    "Through our hypothesis, u_1 and u_2 will enter the stack first and then the remaining vertices in the branch K will enter. After all the branches have been traversed vertices of the next branch, L which is v_1 is traversed and then added to the stack.\n",
    "\n",
    "***\n"
   ]
  },
  {
   "cell_type": "markdown",
   "metadata": {},
   "source": [
    "## Solving the Maze using DIJKSTRA'S"
   ]
  },
  {
   "cell_type": "code",
   "execution_count": 171,
   "metadata": {},
   "outputs": [],
   "source": [
    "maze = build_maze(5,5)"
   ]
  },
  {
   "cell_type": "code",
   "execution_count": 172,
   "metadata": {},
   "outputs": [],
   "source": [
    "def dijkstras_path(maze,start,end):\n",
    "    \n",
    "    #Get the number of rows and columns of the maze\n",
    "    rows = len(maze)\n",
    "    columns = len(maze[0])\n",
    "\n",
    "    #Creating a dictionary containing the points in the maze and its neighbouring walls/cells in all directions\n",
    "    map_dict = {}\n",
    "    for i in range(rows):\n",
    "        for j in range(columns):\n",
    "            if i == 0:\n",
    "                n_val = 0\n",
    "            else:\n",
    "                n_val = int(maze[i-1][j])\n",
    "            if j == 0:\n",
    "                w_val = 0\n",
    "            else:\n",
    "                w_val = int(maze[i][j-1])\n",
    "            if j == columns-1 :\n",
    "                e_val = 0\n",
    "            else:\n",
    "                e_val = int(maze[i][j+1])    \n",
    "            if i == rows-1 :\n",
    "                s_val = 0\n",
    "            else:\n",
    "                s_val = int(maze[i+1][j])  \n",
    "\n",
    "            map_dict[(i,j)] = {'N':n_val,'S': s_val,'W': w_val,'E' : e_val}\n",
    "\n",
    "    #Set the unvisited nodes to infinity while the start node would be 0\n",
    "    unvisited = {n: float('inf') for n in map_dict.keys()}\n",
    "    unvisited[start] = 0\n",
    "    visited = {}\n",
    "\n",
    "    #Create a dictionary for the final path\n",
    "    final_path = {}\n",
    "\n",
    "    #Check the closest point to the start point and assign the weights to them \n",
    "    while unvisited:\n",
    "        current = min(unvisited,key = unvisited.get)\n",
    "        visited[current] = unvisited[current]\n",
    "        if current == end:\n",
    "            break\n",
    "        for direction in 'NSWE':\n",
    "            if map_dict[current][direction] == True:\n",
    "                if direction == 'N':\n",
    "                    previous = (current[0] - 1, current[1])\n",
    "                if direction == 'S':\n",
    "                    previous = (current[0] + 1, current[1])\n",
    "                if direction == 'W':\n",
    "                    previous = (current[0], current[1] - 1)\n",
    "                if direction == 'E':\n",
    "                    previous = (current[0], current[1] + 1)\n",
    "                if previous in visited:\n",
    "                    continue\n",
    "                temp_val = unvisited[current] + 1\n",
    "\n",
    "                \n",
    "                if temp_val < unvisited[previous]:\n",
    "                    unvisited[previous] = temp_val\n",
    "                    final_path[previous] = current\n",
    "        unvisited.pop(current)  \n",
    "\n",
    "    fwd_path = {}\n",
    "    cell = end\n",
    "    while cell != start:\n",
    "        fwd_path[final_path[cell]] = cell\n",
    "        cell = final_path[cell]\n",
    "        \n",
    "    \n",
    "    #Create another maze to show the final paths\n",
    "    dijkstra_maze = [[0 for i in range(columns)] for i in range(rows)]\n",
    "\n",
    "    #Removing duplicates from all the nodes in the final path\n",
    "    dijkstra_maze_path = list(set(list(fwd_path.keys()) + list(fwd_path.values())))\n",
    "\n",
    "    #Based on the final graph create a new maze with only the solution to the maze \n",
    "    for i in range(len(dijkstra_maze_path)):\n",
    "        dijkstra_maze[dijkstra_maze_path[i][0]][dijkstra_maze_path[i][1]] = 1\n",
    "\n",
    "    #Print the Maze\n",
    "    for line in dijkstra_maze:\n",
    "        print ('  '.join(map(str, line)))\n"
   ]
  },
  {
   "cell_type": "code",
   "execution_count": 173,
   "metadata": {},
   "outputs": [
    {
     "name": "stdout",
     "output_type": "stream",
     "text": [
      "0  1  0  0  0\n",
      "0  1  1  1  0\n",
      "0  0  0  1  0\n",
      "0  0  0  1  0\n",
      "0  0  0  1  0\n"
     ]
    }
   ],
   "source": [
    "start = (0,1)\n",
    "end = (4,3)\n",
    "dijkstras_path(maze,start,end)"
   ]
  },
  {
   "cell_type": "markdown",
   "metadata": {},
   "source": [
    "**Runtime for Dijkstra's Algorithm** \n",
    "\n",
    "Time complexity for our Dijkstra's algorithm is O(n^2)"
   ]
  },
  {
   "cell_type": "markdown",
   "metadata": {},
   "source": [
    "### Proof of Correctness \n",
    "\n",
    "**Proof by induction**\n",
    "\n",
    "Base case (|R| = 1): Since R only grows in size, the only time |R| = 1 is when\n",
    "R = {s} and d(s) = 0 = δ(s), which is correct.\n",
    "\n",
    "Inductive hypothesis: Let u be the last vertex added to R. Let R0 = R∪ {u}. Our I.H. is: for each x ∈ R0,\n",
    "    d(x) = δ(x).\n",
    "    \n",
    "Using the I.H.: By the inductive hypothesis, for every vertex in R0 that isn’t u, we have the correct distance label. We need only show that d(u) = δ(u) to complete the proof.\n",
    "Suppose for a contradiction that the shortest path from s-to-u is Q and has length (Q) < d(u).\n",
    "Q starts in R0 and at some leaves R0(to get to u which is not in R0). Let xy be the first edge along Q that leaves R0. Let Qx be the s-to-x subpath of Q. \n",
    "\n",
    "Clearly:\n",
    "    (Qx) + (xy) ≤ (Q).\n",
    "Since d(x) is the length of the shortest s-to-x path by the I.H., d(x) ≤ (Qx), giving us\n",
    "    d(x) + (xy) ≤ (Qx).\n",
    "Since y is adjacent to x, d(y) must have been updated by the algorithm, so\n",
    "    d(y) ≤ d(x) + (xy).\n",
    "Finally, since u was picked by the algorithm, u must have the smallest distance label:\n",
    "    d(u) ≤ d(y).\n",
    "    \n",
    "Combining these inequalities in reverse order gives us the contradiction that d(x) < d(x). Therefore, no such\n",
    "shorter path Q must exist and so d(u) = δ(u).\n",
    "\n",
    "***\n"
   ]
  },
  {
   "cell_type": "markdown",
   "metadata": {},
   "source": [
    "# Comparison of the Algorithms"
   ]
  },
  {
   "cell_type": "markdown",
   "metadata": {},
   "source": [
    "### Starting with a large maze"
   ]
  },
  {
   "cell_type": "code",
   "execution_count": 174,
   "metadata": {},
   "outputs": [],
   "source": [
    "maze = build_maze(40,40)\n",
    "start = (0,1)\n",
    "end = (39,38)"
   ]
  },
  {
   "cell_type": "code",
   "execution_count": 175,
   "metadata": {},
   "outputs": [
    {
     "name": "stdout",
     "output_type": "stream",
     "text": [
      "0  1  0  0  0  0  0  0  0  0  0  0  0  0  0  0  0  0  0  0  0  0  0  0  0  0  0  0  0  0  0  0  0  0  0  0  0  0  0  0\n",
      "0  1  0  1  0  1  1  1  0  1  0  1  1  1  1  1  1  0  1  0  1  1  1  1  1  1  1  0  0  1  0  1  0  0  1  1  0  0  1  0\n",
      "0  1  0  1  0  1  0  0  0  1  0  0  0  0  1  0  1  1  1  1  1  0  0  0  0  0  0  0  0  1  1  1  0  0  1  0  0  0  1  0\n",
      "0  1  0  1  1  1  0  0  1  1  1  0  1  0  1  0  0  0  1  0  0  0  1  1  0  0  1  0  1  1  0  0  0  1  1  0  0  1  1  0\n",
      "0  1  0  0  0  1  1  0  0  1  0  0  1  1  1  1  0  0  0  0  0  0  1  0  0  0  1  0  0  1  1  1  0  0  1  0  0  0  1  0\n",
      "0  1  0  0  0  0  1  0  0  1  1  0  0  1  0  0  0  1  0  0  1  1  1  1  1  0  1  0  1  1  0  1  0  0  1  1  0  1  1  0\n",
      "0  1  0  1  0  1  1  0  1  1  0  0  1  1  0  0  1  1  1  0  1  0  0  0  0  0  1  0  0  1  0  0  0  1  1  0  0  1  0  0\n",
      "0  1  1  1  0  0  1  0  1  0  0  0  0  1  1  1  1  0  0  0  1  0  0  1  0  0  1  0  1  1  1  0  0  0  1  0  1  1  1  0\n",
      "0  0  0  1  0  1  1  1  1  0  1  0  0  0  1  0  0  0  1  0  1  1  0  1  1  0  1  0  0  1  0  0  1  0  1  0  1  0  1  0\n",
      "0  0  1  1  0  0  1  0  0  0  1  0  1  1  1  1  1  0  1  0  1  0  0  1  0  0  1  1  1  1  1  1  1  1  1  1  1  0  0  0\n",
      "0  1  1  0  0  1  1  1  0  1  1  0  1  0  0  0  0  0  1  0  1  1  1  1  1  1  1  0  1  0  0  1  0  0  1  0  1  1  1  0\n",
      "0  0  1  0  0  0  1  0  0  1  0  0  1  0  0  0  0  0  1  1  1  0  0  0  1  0  1  0  0  0  0  0  0  1  1  0  0  0  1  0\n",
      "0  0  1  1  0  0  1  1  1  1  1  1  1  1  1  1  1  0  1  0  0  0  0  0  0  0  0  0  0  1  1  1  0  0  1  1  0  0  0  0\n",
      "0  1  1  0  0  0  1  0  0  1  0  0  0  0  0  1  0  0  1  0  1  0  1  1  1  1  1  1  1  1  0  0  0  0  0  1  0  1  0  0\n",
      "0  0  1  0  1  0  1  1  0  0  0  0  1  0  0  1  0  0  1  0  1  0  1  0  0  0  0  0  0  0  0  1  0  0  1  1  1  1  1  0\n",
      "0  1  1  1  1  0  1  0  0  0  1  0  1  1  0  0  0  1  1  1  1  1  1  1  0  0  0  0  0  0  1  1  1  0  0  0  0  1  0  0\n",
      "0  1  0  0  1  0  1  1  1  1  1  0  0  1  1  0  0  0  1  0  0  1  0  1  1  1  1  1  1  1  1  0  1  1  1  0  0  0  0  0\n",
      "0  1  0  0  0  0  1  0  0  0  0  0  0  0  1  0  1  0  1  1  0  0  0  1  0  0  1  0  1  0  0  0  0  0  0  0  1  0  1  0\n",
      "0  1  1  0  0  1  1  1  0  1  0  0  1  0  1  0  1  0  1  0  0  0  0  1  1  0  1  0  1  1  0  1  0  1  0  0  1  1  1  0\n",
      "0  0  1  1  0  1  0  0  0  1  1  0  1  0  1  1  1  1  1  1  1  1  0  1  0  0  0  0  0  0  0  1  1  1  0  1  1  0  1  0\n",
      "0  0  0  1  0  1  0  1  0  1  0  0  1  1  1  0  0  0  0  0  0  0  0  0  0  0  1  1  0  1  0  0  0  1  1  1  0  0  1  0\n",
      "0  1  0  1  0  1  0  1  0  1  1  0  1  0  0  0  0  1  0  1  0  1  0  0  1  0  0  1  0  1  0  1  0  1  0  0  0  0  0  0\n",
      "0  1  1  1  0  1  0  1  0  1  0  0  1  0  1  1  1  1  1  1  1  1  1  1  1  0  1  1  0  1  0  1  1  1  0  0  0  1  1  0\n",
      "0  0  0  1  0  1  1  1  1  1  1  1  1  0  1  0  0  0  0  0  0  0  0  0  1  1  1  0  0  1  0  0  1  0  0  1  0  1  0  0\n",
      "0  1  1  1  1  1  0  1  0  1  0  0  1  1  1  1  1  1  1  1  1  1  1  0  0  0  0  0  1  1  0  1  1  1  1  1  1  1  1  0\n",
      "0  0  0  1  0  1  0  0  0  1  1  0  0  1  0  1  0  0  0  0  0  0  0  0  1  1  1  0  0  1  1  1  0  1  0  0  1  0  0  0\n",
      "0  1  1  1  0  1  1  0  0  1  0  0  0  1  0  1  1  1  1  1  1  1  1  0  0  1  0  0  0  1  0  0  0  0  0  1  1  1  1  0\n",
      "0  1  0  1  0  1  0  0  0  0  0  1  0  0  0  0  1  0  0  1  0  0  1  1  0  1  0  1  0  1  1  1  1  1  0  0  0  0  0  0\n",
      "0  0  0  1  0  0  0  0  1  1  1  1  1  1  1  0  0  0  1  1  1  0  0  0  0  1  1  1  0  1  0  0  0  0  0  1  0  1  0  0\n",
      "0  1  1  1  1  1  1  1  1  0  1  0  1  0  1  0  0  0  0  0  1  0  0  1  0  1  0  0  0  1  1  1  1  1  1  1  1  1  1  0\n",
      "0  0  0  1  0  0  0  0  1  0  0  0  0  0  1  1  1  1  0  0  1  1  1  1  1  1  1  1  1  1  0  1  0  0  1  0  1  0  0  0\n",
      "0  1  1  1  1  1  0  0  1  1  0  1  0  0  1  0  0  1  0  0  1  0  1  0  0  1  0  0  1  0  0  0  0  0  0  0  1  1  0  0\n",
      "0  1  0  1  0  1  1  0  0  1  1  1  0  0  1  1  0  1  1  0  1  0  1  1  0  1  1  0  1  1  1  0  0  1  0  0  0  1  1  0\n",
      "0  1  0  1  0  0  1  0  0  1  0  1  1  0  0  1  0  0  0  0  1  0  1  0  0  1  0  0  1  0  1  1  0  1  1  1  0  1  0  0\n",
      "0  1  0  1  1  0  1  0  0  0  0  1  0  0  0  1  1  1  1  0  1  0  1  0  0  0  0  0  0  0  0  1  1  1  0  1  0  1  1  0\n",
      "0  1  0  0  1  0  0  0  1  1  1  1  1  1  0  1  0  1  0  0  0  0  1  1  1  1  1  1  1  1  0  0  1  0  0  0  0  1  0  0\n",
      "0  1  0  0  1  1  1  0  1  0  1  0  0  1  0  1  0  1  1  0  0  0  0  1  0  1  0  1  0  1  0  0  1  0  1  0  0  0  0  0\n",
      "0  0  0  0  1  0  1  0  1  0  1  1  0  1  0  1  0  0  1  1  1  1  0  1  0  0  0  1  0  1  0  0  1  1  1  1  1  0  1  0\n",
      "0  1  1  1  1  0  1  0  1  0  1  0  0  1  0  1  0  1  1  0  1  0  0  1  1  1  0  1  0  1  1  0  1  0  1  0  1  1  1  0\n",
      "0  0  0  0  0  0  0  0  0  0  0  0  0  0  0  0  0  0  0  0  0  0  0  0  0  0  0  0  0  0  0  0  0  0  0  0  0  0  1  0\n"
     ]
    }
   ],
   "source": [
    "for line in maze:\n",
    "    print ('  '.join(map(str, line)))"
   ]
  },
  {
   "cell_type": "code",
   "execution_count": 176,
   "metadata": {},
   "outputs": [
    {
     "name": "stdout",
     "output_type": "stream",
     "text": [
      "[0, 1, 0, 0, 0, 0, 0, 0, 0, 0, 0, 0, 0, 0, 0, 0, 0, 0, 0, 0, 0, 0, 0, 0, 0, 0, 0, 0, 0, 0, 0, 0, 0, 0, 0, 0, 0, 0, 0, 0]\n",
      "[0, 1, 0, 0, 0, 0, 0, 0, 0, 0, 0, 0, 0, 0, 0, 0, 0, 0, 0, 0, 0, 0, 0, 0, 0, 0, 0, 0, 0, 0, 0, 0, 0, 0, 0, 0, 0, 0, 0, 0]\n",
      "[0, 1, 0, 0, 0, 0, 0, 0, 0, 0, 0, 0, 0, 0, 0, 0, 0, 0, 0, 0, 0, 0, 0, 0, 0, 0, 0, 0, 0, 0, 0, 0, 0, 0, 0, 0, 0, 0, 0, 0]\n",
      "[0, 1, 0, 0, 0, 0, 0, 0, 0, 0, 0, 0, 0, 0, 0, 0, 0, 0, 0, 0, 0, 0, 0, 0, 0, 0, 0, 0, 0, 0, 0, 0, 0, 0, 0, 0, 0, 0, 0, 0]\n",
      "[0, 1, 0, 0, 0, 0, 0, 0, 0, 0, 0, 0, 0, 0, 0, 0, 0, 0, 0, 0, 0, 0, 0, 0, 0, 0, 0, 0, 0, 0, 0, 0, 0, 0, 0, 0, 0, 0, 0, 0]\n",
      "[0, 1, 0, 0, 0, 0, 0, 0, 0, 0, 0, 0, 0, 0, 0, 0, 0, 0, 0, 0, 0, 0, 0, 0, 0, 0, 0, 0, 0, 0, 0, 0, 0, 0, 0, 0, 0, 0, 0, 0]\n",
      "[0, 1, 0, 0, 0, 0, 0, 0, 0, 0, 0, 0, 0, 0, 0, 0, 0, 0, 0, 0, 0, 0, 0, 0, 0, 0, 0, 0, 0, 0, 0, 0, 0, 0, 0, 0, 0, 0, 0, 0]\n",
      "[0, 1, 1, 1, 0, 0, 0, 0, 0, 0, 0, 0, 0, 0, 0, 0, 0, 0, 0, 0, 0, 0, 0, 0, 0, 0, 0, 0, 0, 0, 0, 0, 0, 0, 0, 0, 0, 0, 0, 0]\n",
      "[0, 0, 0, 1, 0, 0, 0, 0, 0, 0, 0, 0, 0, 0, 0, 0, 0, 0, 0, 0, 0, 0, 0, 0, 0, 0, 0, 0, 0, 0, 0, 0, 0, 0, 0, 0, 0, 0, 0, 0]\n",
      "[0, 0, 1, 1, 0, 0, 0, 0, 0, 0, 0, 0, 0, 0, 0, 0, 0, 0, 0, 0, 0, 0, 0, 0, 0, 0, 0, 0, 0, 0, 0, 0, 0, 0, 0, 0, 0, 0, 0, 0]\n",
      "[0, 0, 1, 0, 0, 0, 0, 0, 0, 0, 0, 0, 0, 0, 0, 0, 0, 0, 0, 0, 0, 0, 0, 0, 0, 0, 0, 0, 0, 0, 0, 0, 0, 0, 0, 0, 0, 0, 0, 0]\n",
      "[0, 0, 1, 0, 0, 0, 0, 0, 0, 0, 0, 0, 0, 0, 0, 0, 0, 0, 0, 0, 0, 0, 0, 0, 0, 0, 0, 0, 0, 0, 0, 0, 0, 0, 0, 0, 0, 0, 0, 0]\n",
      "[0, 0, 1, 0, 0, 0, 0, 0, 0, 0, 0, 0, 0, 0, 0, 0, 0, 0, 0, 0, 0, 0, 0, 0, 0, 0, 0, 0, 0, 0, 0, 0, 0, 0, 0, 0, 0, 0, 0, 0]\n",
      "[0, 0, 1, 0, 0, 0, 0, 0, 0, 0, 0, 0, 0, 0, 0, 0, 0, 0, 0, 0, 0, 0, 0, 0, 0, 0, 0, 0, 0, 0, 0, 0, 0, 0, 0, 0, 0, 0, 0, 0]\n",
      "[0, 0, 1, 0, 0, 0, 0, 0, 0, 0, 0, 0, 0, 0, 0, 0, 0, 0, 0, 0, 0, 0, 0, 0, 0, 0, 0, 0, 0, 0, 0, 0, 0, 0, 0, 0, 0, 0, 0, 0]\n",
      "[0, 1, 1, 0, 0, 0, 0, 0, 0, 0, 0, 0, 0, 0, 0, 0, 0, 0, 0, 0, 0, 0, 0, 0, 0, 0, 0, 0, 0, 0, 0, 0, 0, 0, 0, 0, 0, 0, 0, 0]\n",
      "[0, 1, 0, 0, 0, 0, 0, 0, 0, 0, 0, 0, 0, 0, 0, 0, 0, 0, 0, 0, 0, 0, 0, 0, 0, 0, 0, 0, 0, 0, 0, 0, 0, 0, 0, 0, 0, 0, 0, 0]\n",
      "[0, 1, 0, 0, 0, 0, 0, 0, 0, 0, 0, 0, 0, 0, 0, 0, 0, 0, 0, 0, 0, 0, 0, 0, 0, 0, 0, 0, 0, 0, 0, 0, 0, 0, 0, 0, 0, 0, 0, 0]\n",
      "[0, 1, 1, 0, 0, 0, 0, 0, 0, 0, 0, 0, 0, 0, 0, 0, 0, 0, 0, 0, 0, 0, 0, 0, 0, 0, 0, 0, 0, 0, 0, 0, 0, 0, 0, 0, 0, 0, 0, 0]\n",
      "[0, 0, 1, 1, 0, 0, 0, 0, 0, 0, 0, 0, 0, 0, 0, 0, 0, 0, 0, 0, 0, 0, 0, 0, 0, 0, 0, 0, 0, 0, 0, 0, 0, 0, 0, 0, 0, 0, 0, 0]\n",
      "[0, 0, 0, 1, 0, 0, 0, 0, 0, 0, 0, 0, 0, 0, 0, 0, 0, 0, 0, 0, 0, 0, 0, 0, 0, 0, 0, 0, 0, 0, 0, 0, 0, 0, 0, 0, 0, 0, 0, 0]\n",
      "[0, 0, 0, 1, 0, 0, 0, 0, 0, 0, 0, 0, 0, 0, 0, 0, 0, 0, 0, 0, 0, 0, 0, 0, 0, 0, 0, 0, 0, 0, 0, 0, 0, 0, 0, 0, 0, 0, 0, 0]\n",
      "[0, 0, 0, 1, 0, 0, 0, 0, 0, 0, 0, 0, 0, 0, 0, 0, 0, 0, 0, 0, 0, 0, 0, 0, 0, 0, 0, 0, 0, 0, 0, 0, 0, 0, 0, 0, 0, 0, 0, 0]\n",
      "[0, 0, 0, 1, 0, 1, 1, 1, 1, 1, 1, 1, 1, 0, 0, 0, 0, 0, 0, 0, 0, 0, 0, 0, 0, 0, 0, 0, 0, 0, 0, 0, 0, 0, 0, 0, 0, 0, 0, 0]\n",
      "[0, 0, 0, 1, 1, 1, 0, 0, 0, 0, 0, 0, 1, 1, 1, 1, 0, 0, 0, 0, 0, 0, 0, 0, 0, 0, 0, 0, 0, 0, 0, 0, 0, 0, 0, 0, 0, 0, 0, 0]\n",
      "[0, 0, 0, 0, 0, 0, 0, 0, 0, 0, 0, 0, 0, 0, 0, 1, 0, 0, 0, 0, 0, 0, 0, 0, 0, 0, 0, 0, 0, 0, 0, 0, 0, 0, 0, 0, 0, 0, 0, 0]\n",
      "[0, 0, 0, 0, 0, 0, 0, 0, 0, 0, 0, 0, 0, 0, 0, 1, 1, 1, 1, 1, 0, 0, 0, 0, 0, 0, 0, 0, 0, 0, 0, 0, 0, 0, 0, 0, 0, 0, 0, 0]\n",
      "[0, 0, 0, 0, 0, 0, 0, 0, 0, 0, 0, 0, 0, 0, 0, 0, 0, 0, 0, 1, 0, 0, 0, 0, 0, 0, 0, 0, 0, 0, 0, 0, 0, 0, 0, 0, 0, 0, 0, 0]\n",
      "[0, 0, 0, 0, 0, 0, 0, 0, 0, 0, 0, 0, 0, 0, 0, 0, 0, 0, 0, 1, 1, 0, 0, 0, 0, 0, 0, 0, 0, 0, 0, 0, 0, 0, 0, 0, 0, 0, 0, 0]\n",
      "[0, 0, 0, 0, 0, 0, 0, 0, 0, 0, 0, 0, 0, 0, 0, 0, 0, 0, 0, 0, 1, 0, 0, 0, 0, 0, 0, 0, 0, 0, 0, 0, 0, 0, 0, 0, 0, 0, 0, 0]\n",
      "[0, 0, 0, 0, 0, 0, 0, 0, 0, 0, 0, 0, 0, 0, 0, 0, 0, 0, 0, 0, 1, 1, 1, 1, 1, 1, 1, 1, 1, 0, 0, 0, 0, 0, 0, 0, 0, 0, 0, 0]\n",
      "[0, 0, 0, 0, 0, 0, 0, 0, 0, 0, 0, 0, 0, 0, 0, 0, 0, 0, 0, 0, 0, 0, 0, 0, 0, 0, 0, 0, 1, 0, 0, 0, 0, 0, 0, 0, 0, 0, 0, 0]\n",
      "[0, 0, 0, 0, 0, 0, 0, 0, 0, 0, 0, 0, 0, 0, 0, 0, 0, 0, 0, 0, 0, 0, 0, 0, 0, 0, 0, 0, 1, 1, 1, 0, 0, 0, 0, 0, 0, 0, 0, 0]\n",
      "[0, 0, 0, 0, 0, 0, 0, 0, 0, 0, 0, 0, 0, 0, 0, 0, 0, 0, 0, 0, 0, 0, 0, 0, 0, 0, 0, 0, 0, 0, 1, 1, 0, 0, 0, 0, 0, 0, 0, 0]\n",
      "[0, 0, 0, 0, 0, 0, 0, 0, 0, 0, 0, 0, 0, 0, 0, 0, 0, 0, 0, 0, 0, 0, 0, 0, 0, 0, 0, 0, 0, 0, 0, 1, 1, 0, 0, 0, 0, 0, 0, 0]\n",
      "[0, 0, 0, 0, 0, 0, 0, 0, 0, 0, 0, 0, 0, 0, 0, 0, 0, 0, 0, 0, 0, 0, 0, 0, 0, 0, 0, 0, 0, 0, 0, 0, 1, 0, 0, 0, 0, 0, 0, 0]\n",
      "[0, 0, 0, 0, 0, 0, 0, 0, 0, 0, 0, 0, 0, 0, 0, 0, 0, 0, 0, 0, 0, 0, 0, 0, 0, 0, 0, 0, 0, 0, 0, 0, 1, 0, 0, 0, 0, 0, 0, 0]\n",
      "[0, 0, 0, 0, 0, 0, 0, 0, 0, 0, 0, 0, 0, 0, 0, 0, 0, 0, 0, 0, 0, 0, 0, 0, 0, 0, 0, 0, 0, 0, 0, 0, 1, 1, 1, 1, 1, 0, 0, 0]\n",
      "[0, 0, 0, 0, 0, 0, 0, 0, 0, 0, 0, 0, 0, 0, 0, 0, 0, 0, 0, 0, 0, 0, 0, 0, 0, 0, 0, 0, 0, 0, 0, 0, 0, 0, 0, 0, 1, 1, 1, 0]\n",
      "[0, 0, 0, 0, 0, 0, 0, 0, 0, 0, 0, 0, 0, 0, 0, 0, 0, 0, 0, 0, 0, 0, 0, 0, 0, 0, 0, 0, 0, 0, 0, 0, 0, 0, 0, 0, 0, 0, 1, 0]\n",
      "0.008479118347167969\n"
     ]
    }
   ],
   "source": [
    "#BFS Run Time\n",
    "start_time = time.time()\n",
    "bfs_path(maze,start,end)\n",
    "print(time.time() - start_time)"
   ]
  },
  {
   "cell_type": "code",
   "execution_count": 177,
   "metadata": {},
   "outputs": [
    {
     "name": "stdout",
     "output_type": "stream",
     "text": [
      "0  1  0  0  0  0  0  0  0  0  0  0  0  0  0  0  0  0  0  0  0  0  0  0  0  0  0  0  0  0  0  0  0  0  0  0  0  0  0  0\n",
      "0  1  0  0  0  0  0  0  0  0  0  0  0  0  0  0  0  0  0  0  0  0  0  0  0  0  0  0  0  0  0  0  0  0  0  0  0  0  0  0\n",
      "0  1  0  0  0  0  0  0  0  0  0  0  0  0  0  0  0  0  0  0  0  0  0  0  0  0  0  0  0  0  0  0  0  0  0  0  0  0  0  0\n",
      "0  1  0  0  0  0  0  0  0  0  0  0  0  0  0  0  0  0  0  0  0  0  0  0  0  0  0  0  0  0  0  0  0  0  0  0  0  0  0  0\n",
      "0  1  0  0  0  0  0  0  0  0  0  0  0  0  0  0  0  0  0  0  0  0  0  0  0  0  0  0  0  0  0  0  0  0  0  0  0  0  0  0\n",
      "0  1  0  0  0  0  0  0  0  0  0  0  0  0  0  0  0  0  0  0  0  0  0  0  0  0  0  0  0  0  0  0  0  0  0  0  0  0  0  0\n",
      "0  1  0  0  0  0  0  0  0  0  0  0  0  0  0  0  0  0  0  0  0  0  0  0  0  0  0  0  0  0  0  0  0  0  0  0  0  0  0  0\n",
      "0  1  1  1  0  0  0  0  0  0  0  0  0  0  0  0  0  0  0  0  0  0  0  0  0  0  0  0  0  0  0  0  0  0  0  0  0  0  0  0\n",
      "0  0  0  1  0  0  0  0  0  0  0  0  0  0  0  0  0  0  0  0  0  0  0  0  0  0  0  0  0  0  0  0  0  0  0  0  0  0  0  0\n",
      "0  0  1  1  0  0  0  0  0  0  0  0  0  0  0  0  0  0  0  0  0  0  0  0  0  0  0  0  0  0  0  0  0  0  0  0  0  0  0  0\n",
      "0  0  1  0  0  0  0  0  0  0  0  0  0  0  0  0  0  0  0  0  0  0  0  0  0  0  0  0  0  0  0  0  0  0  0  0  0  0  0  0\n",
      "0  0  1  0  0  0  0  0  0  0  0  0  0  0  0  0  0  0  0  0  0  0  0  0  0  0  0  0  0  0  0  0  0  0  0  0  0  0  0  0\n",
      "0  0  1  0  0  0  0  0  0  0  0  0  0  0  0  0  0  0  0  0  0  0  0  0  0  0  0  0  0  0  0  0  0  0  0  0  0  0  0  0\n",
      "0  0  1  0  0  0  0  0  0  0  0  0  0  0  0  0  0  0  0  0  0  0  0  0  0  0  0  0  0  0  0  0  0  0  0  0  0  0  0  0\n",
      "0  0  1  0  0  0  0  0  0  0  0  0  0  0  0  0  0  0  0  0  0  0  0  0  0  0  0  0  0  0  0  0  0  0  0  0  0  0  0  0\n",
      "0  1  1  0  0  0  0  0  0  0  0  0  0  0  0  0  0  0  0  0  0  0  0  0  0  0  0  0  0  0  0  0  0  0  0  0  0  0  0  0\n",
      "0  1  0  0  0  0  0  0  0  0  0  0  0  0  0  0  0  0  0  0  0  0  0  0  0  0  0  0  0  0  0  0  0  0  0  0  0  0  0  0\n",
      "0  1  0  0  0  0  0  0  0  0  0  0  0  0  0  0  0  0  0  0  0  0  0  0  0  0  0  0  0  0  0  0  0  0  0  0  0  0  0  0\n",
      "0  1  1  0  0  0  0  0  0  0  0  0  0  0  0  0  0  0  0  0  0  0  0  0  0  0  0  0  0  0  0  0  0  0  0  0  0  0  0  0\n",
      "0  0  1  1  0  0  0  0  0  0  0  0  0  0  0  0  0  0  0  0  0  0  0  0  0  0  0  0  0  0  0  0  0  0  0  0  0  0  0  0\n",
      "0  0  0  1  0  0  0  0  0  0  0  0  0  0  0  0  0  0  0  0  0  0  0  0  0  0  0  0  0  0  0  0  0  0  0  0  0  0  0  0\n",
      "0  0  0  1  0  0  0  0  0  0  0  0  0  0  0  0  0  0  0  0  0  0  0  0  0  0  0  0  0  0  0  0  0  0  0  0  0  0  0  0\n",
      "0  0  0  1  0  0  0  0  0  0  0  0  0  0  0  0  0  0  0  0  0  0  0  0  0  0  0  0  0  0  0  0  0  0  0  0  0  0  0  0\n",
      "0  0  0  1  0  1  1  1  1  1  1  1  1  0  0  0  0  0  0  0  0  0  0  0  0  0  0  0  0  0  0  0  0  0  0  0  0  0  0  0\n",
      "0  0  0  1  1  1  0  0  0  0  0  0  1  1  1  1  0  0  0  0  0  0  0  0  0  0  0  0  0  0  0  0  0  0  0  0  0  0  0  0\n",
      "0  0  0  0  0  0  0  0  0  0  0  0  0  0  0  1  0  0  0  0  0  0  0  0  0  0  0  0  0  0  0  0  0  0  0  0  0  0  0  0\n",
      "0  0  0  0  0  0  0  0  0  0  0  0  0  0  0  1  1  1  1  1  0  0  0  0  0  0  0  0  0  0  0  0  0  0  0  0  0  0  0  0\n",
      "0  0  0  0  0  0  0  0  0  0  0  0  0  0  0  0  0  0  0  1  0  0  0  0  0  0  0  0  0  0  0  0  0  0  0  0  0  0  0  0\n",
      "0  0  0  0  0  0  0  0  0  0  0  0  0  0  0  0  0  0  0  1  1  0  0  0  0  0  0  0  0  0  0  0  0  0  0  0  0  0  0  0\n",
      "0  0  0  0  0  0  0  0  0  0  0  0  0  0  0  0  0  0  0  0  1  0  0  0  0  0  0  0  0  0  0  0  0  0  0  0  0  0  0  0\n",
      "0  0  0  0  0  0  0  0  0  0  0  0  0  0  0  0  0  0  0  0  1  1  1  1  1  1  1  1  1  0  0  0  0  0  0  0  0  0  0  0\n",
      "0  0  0  0  0  0  0  0  0  0  0  0  0  0  0  0  0  0  0  0  0  0  0  0  0  0  0  0  1  0  0  0  0  0  0  0  0  0  0  0\n",
      "0  0  0  0  0  0  0  0  0  0  0  0  0  0  0  0  0  0  0  0  0  0  0  0  0  0  0  0  1  1  1  0  0  0  0  0  0  0  0  0\n",
      "0  0  0  0  0  0  0  0  0  0  0  0  0  0  0  0  0  0  0  0  0  0  0  0  0  0  0  0  0  0  1  1  0  0  0  0  0  0  0  0\n",
      "0  0  0  0  0  0  0  0  0  0  0  0  0  0  0  0  0  0  0  0  0  0  0  0  0  0  0  0  0  0  0  1  1  0  0  0  0  0  0  0\n",
      "0  0  0  0  0  0  0  0  0  0  0  0  0  0  0  0  0  0  0  0  0  0  0  0  0  0  0  0  0  0  0  0  1  0  0  0  0  0  0  0\n",
      "0  0  0  0  0  0  0  0  0  0  0  0  0  0  0  0  0  0  0  0  0  0  0  0  0  0  0  0  0  0  0  0  1  0  0  0  0  0  0  0\n",
      "0  0  0  0  0  0  0  0  0  0  0  0  0  0  0  0  0  0  0  0  0  0  0  0  0  0  0  0  0  0  0  0  1  1  1  1  1  0  0  0\n",
      "0  0  0  0  0  0  0  0  0  0  0  0  0  0  0  0  0  0  0  0  0  0  0  0  0  0  0  0  0  0  0  0  0  0  0  0  1  1  1  0\n",
      "0  0  0  0  0  0  0  0  0  0  0  0  0  0  0  0  0  0  0  0  0  0  0  0  0  0  0  0  0  0  0  0  0  0  0  0  0  0  1  0\n",
      "0.0036809444427490234\n"
     ]
    }
   ],
   "source": [
    "#DFS Run time\n",
    "start_time = time.time()\n",
    "dfs_path(maze,start,end)\n",
    "print((time.time() - start_time))"
   ]
  },
  {
   "cell_type": "code",
   "execution_count": 178,
   "metadata": {
    "scrolled": true
   },
   "outputs": [
    {
     "name": "stdout",
     "output_type": "stream",
     "text": [
      "0  1  0  0  0  0  0  0  0  0  0  0  0  0  0  0  0  0  0  0  0  0  0  0  0  0  0  0  0  0  0  0  0  0  0  0  0  0  0  0\n",
      "0  1  0  0  0  0  0  0  0  0  0  0  0  0  0  0  0  0  0  0  0  0  0  0  0  0  0  0  0  0  0  0  0  0  0  0  0  0  0  0\n",
      "0  1  0  0  0  0  0  0  0  0  0  0  0  0  0  0  0  0  0  0  0  0  0  0  0  0  0  0  0  0  0  0  0  0  0  0  0  0  0  0\n",
      "0  1  0  0  0  0  0  0  0  0  0  0  0  0  0  0  0  0  0  0  0  0  0  0  0  0  0  0  0  0  0  0  0  0  0  0  0  0  0  0\n",
      "0  1  0  0  0  0  0  0  0  0  0  0  0  0  0  0  0  0  0  0  0  0  0  0  0  0  0  0  0  0  0  0  0  0  0  0  0  0  0  0\n",
      "0  1  0  0  0  0  0  0  0  0  0  0  0  0  0  0  0  0  0  0  0  0  0  0  0  0  0  0  0  0  0  0  0  0  0  0  0  0  0  0\n",
      "0  1  0  0  0  0  0  0  0  0  0  0  0  0  0  0  0  0  0  0  0  0  0  0  0  0  0  0  0  0  0  0  0  0  0  0  0  0  0  0\n",
      "0  1  1  1  0  0  0  0  0  0  0  0  0  0  0  0  0  0  0  0  0  0  0  0  0  0  0  0  0  0  0  0  0  0  0  0  0  0  0  0\n",
      "0  0  0  1  0  0  0  0  0  0  0  0  0  0  0  0  0  0  0  0  0  0  0  0  0  0  0  0  0  0  0  0  0  0  0  0  0  0  0  0\n",
      "0  0  1  1  0  0  0  0  0  0  0  0  0  0  0  0  0  0  0  0  0  0  0  0  0  0  0  0  0  0  0  0  0  0  0  0  0  0  0  0\n",
      "0  0  1  0  0  0  0  0  0  0  0  0  0  0  0  0  0  0  0  0  0  0  0  0  0  0  0  0  0  0  0  0  0  0  0  0  0  0  0  0\n",
      "0  0  1  0  0  0  0  0  0  0  0  0  0  0  0  0  0  0  0  0  0  0  0  0  0  0  0  0  0  0  0  0  0  0  0  0  0  0  0  0\n",
      "0  0  1  0  0  0  0  0  0  0  0  0  0  0  0  0  0  0  0  0  0  0  0  0  0  0  0  0  0  0  0  0  0  0  0  0  0  0  0  0\n",
      "0  0  1  0  0  0  0  0  0  0  0  0  0  0  0  0  0  0  0  0  0  0  0  0  0  0  0  0  0  0  0  0  0  0  0  0  0  0  0  0\n",
      "0  0  1  0  0  0  0  0  0  0  0  0  0  0  0  0  0  0  0  0  0  0  0  0  0  0  0  0  0  0  0  0  0  0  0  0  0  0  0  0\n",
      "0  1  1  0  0  0  0  0  0  0  0  0  0  0  0  0  0  0  0  0  0  0  0  0  0  0  0  0  0  0  0  0  0  0  0  0  0  0  0  0\n",
      "0  1  0  0  0  0  0  0  0  0  0  0  0  0  0  0  0  0  0  0  0  0  0  0  0  0  0  0  0  0  0  0  0  0  0  0  0  0  0  0\n",
      "0  1  0  0  0  0  0  0  0  0  0  0  0  0  0  0  0  0  0  0  0  0  0  0  0  0  0  0  0  0  0  0  0  0  0  0  0  0  0  0\n",
      "0  1  1  0  0  0  0  0  0  0  0  0  0  0  0  0  0  0  0  0  0  0  0  0  0  0  0  0  0  0  0  0  0  0  0  0  0  0  0  0\n",
      "0  0  1  1  0  0  0  0  0  0  0  0  0  0  0  0  0  0  0  0  0  0  0  0  0  0  0  0  0  0  0  0  0  0  0  0  0  0  0  0\n",
      "0  0  0  1  0  0  0  0  0  0  0  0  0  0  0  0  0  0  0  0  0  0  0  0  0  0  0  0  0  0  0  0  0  0  0  0  0  0  0  0\n",
      "0  0  0  1  0  0  0  0  0  0  0  0  0  0  0  0  0  0  0  0  0  0  0  0  0  0  0  0  0  0  0  0  0  0  0  0  0  0  0  0\n",
      "0  0  0  1  0  0  0  0  0  0  0  0  0  0  0  0  0  0  0  0  0  0  0  0  0  0  0  0  0  0  0  0  0  0  0  0  0  0  0  0\n",
      "0  0  0  1  0  1  1  1  1  1  1  1  1  0  0  0  0  0  0  0  0  0  0  0  0  0  0  0  0  0  0  0  0  0  0  0  0  0  0  0\n",
      "0  0  0  1  1  1  0  0  0  0  0  0  1  1  1  1  0  0  0  0  0  0  0  0  0  0  0  0  0  0  0  0  0  0  0  0  0  0  0  0\n",
      "0  0  0  0  0  0  0  0  0  0  0  0  0  0  0  1  0  0  0  0  0  0  0  0  0  0  0  0  0  0  0  0  0  0  0  0  0  0  0  0\n",
      "0  0  0  0  0  0  0  0  0  0  0  0  0  0  0  1  1  1  1  1  0  0  0  0  0  0  0  0  0  0  0  0  0  0  0  0  0  0  0  0\n",
      "0  0  0  0  0  0  0  0  0  0  0  0  0  0  0  0  0  0  0  1  0  0  0  0  0  0  0  0  0  0  0  0  0  0  0  0  0  0  0  0\n",
      "0  0  0  0  0  0  0  0  0  0  0  0  0  0  0  0  0  0  0  1  1  0  0  0  0  0  0  0  0  0  0  0  0  0  0  0  0  0  0  0\n",
      "0  0  0  0  0  0  0  0  0  0  0  0  0  0  0  0  0  0  0  0  1  0  0  0  0  0  0  0  0  0  0  0  0  0  0  0  0  0  0  0\n",
      "0  0  0  0  0  0  0  0  0  0  0  0  0  0  0  0  0  0  0  0  1  1  1  1  1  1  1  1  1  0  0  0  0  0  0  0  0  0  0  0\n",
      "0  0  0  0  0  0  0  0  0  0  0  0  0  0  0  0  0  0  0  0  0  0  0  0  0  0  0  0  1  0  0  0  0  0  0  0  0  0  0  0\n",
      "0  0  0  0  0  0  0  0  0  0  0  0  0  0  0  0  0  0  0  0  0  0  0  0  0  0  0  0  1  1  1  0  0  0  0  0  0  0  0  0\n",
      "0  0  0  0  0  0  0  0  0  0  0  0  0  0  0  0  0  0  0  0  0  0  0  0  0  0  0  0  0  0  1  1  0  0  0  0  0  0  0  0\n",
      "0  0  0  0  0  0  0  0  0  0  0  0  0  0  0  0  0  0  0  0  0  0  0  0  0  0  0  0  0  0  0  1  1  0  0  0  0  0  0  0\n",
      "0  0  0  0  0  0  0  0  0  0  0  0  0  0  0  0  0  0  0  0  0  0  0  0  0  0  0  0  0  0  0  0  1  0  0  0  0  0  0  0\n",
      "0  0  0  0  0  0  0  0  0  0  0  0  0  0  0  0  0  0  0  0  0  0  0  0  0  0  0  0  0  0  0  0  1  0  0  0  0  0  0  0\n",
      "0  0  0  0  0  0  0  0  0  0  0  0  0  0  0  0  0  0  0  0  0  0  0  0  0  0  0  0  0  0  0  0  1  1  1  1  1  0  0  0\n",
      "0  0  0  0  0  0  0  0  0  0  0  0  0  0  0  0  0  0  0  0  0  0  0  0  0  0  0  0  0  0  0  0  0  0  0  0  1  1  1  0\n",
      "0  0  0  0  0  0  0  0  0  0  0  0  0  0  0  0  0  0  0  0  0  0  0  0  0  0  0  0  0  0  0  0  0  0  0  0  0  0  1  0\n",
      "0.027544021606445312\n"
     ]
    }
   ],
   "source": [
    "#Dijkstra's Run time\n",
    "start_time = time.time()\n",
    "dijkstras_path(maze,start,end)\n",
    "print(time.time() - start_time)"
   ]
  },
  {
   "cell_type": "markdown",
   "metadata": {},
   "source": [
    "#### Time Comparison to solve a 40x40 maze"
   ]
  },
  {
   "cell_type": "markdown",
   "metadata": {},
   "source": [
    "| BFS | DFS | Dijkstra |\n",
    "| --- | --- | --- |\n",
    "| 0.00848 seconds | 0.00368 seconds | 0.02754 seconds |"
   ]
  },
  {
   "cell_type": "markdown",
   "metadata": {},
   "source": [
    "We see that DFS is way faster than the other algorithms to find the maze"
   ]
  },
  {
   "cell_type": "markdown",
   "metadata": {},
   "source": [
    "### Now with a smaller maze"
   ]
  },
  {
   "cell_type": "code",
   "execution_count": 179,
   "metadata": {},
   "outputs": [],
   "source": [
    "small_maze = build_maze(10,10)\n",
    "start,end = find_start_end(small_maze)"
   ]
  },
  {
   "cell_type": "code",
   "execution_count": 180,
   "metadata": {},
   "outputs": [
    {
     "name": "stdout",
     "output_type": "stream",
     "text": [
      "0  1  0  0  0  0  0  0  0  0\n",
      "0  1  1  1  1  1  1  0  1  0\n",
      "0  1  0  0  0  0  1  1  1  0\n",
      "0  0  0  1  0  1  1  0  1  0\n",
      "0  0  0  1  0  0  1  0  1  0\n",
      "0  1  0  1  1  1  1  0  1  0\n",
      "0  1  1  1  0  0  1  0  1  0\n",
      "0  0  1  0  0  1  1  0  1  0\n",
      "0  1  1  1  0  0  1  0  1  0\n",
      "0  0  0  0  0  0  0  0  1  0\n"
     ]
    }
   ],
   "source": [
    "for line in small_maze:\n",
    "    print ('  '.join(map(str, line)))"
   ]
  },
  {
   "cell_type": "code",
   "execution_count": 181,
   "metadata": {},
   "outputs": [
    {
     "name": "stdout",
     "output_type": "stream",
     "text": [
      "[0, 1, 0, 0, 0, 0, 0, 0, 0, 0]\n",
      "[0, 1, 1, 1, 1, 1, 1, 0, 0, 0]\n",
      "[0, 0, 0, 0, 0, 0, 1, 1, 1, 0]\n",
      "[0, 0, 0, 0, 0, 0, 0, 0, 1, 0]\n",
      "[0, 0, 0, 0, 0, 0, 0, 0, 1, 0]\n",
      "[0, 0, 0, 0, 0, 0, 0, 0, 1, 0]\n",
      "[0, 0, 0, 0, 0, 0, 0, 0, 1, 0]\n",
      "[0, 0, 0, 0, 0, 0, 0, 0, 1, 0]\n",
      "[0, 0, 0, 0, 0, 0, 0, 0, 1, 0]\n",
      "[0, 0, 0, 0, 0, 0, 0, 0, 1, 0]\n",
      "0.0003459453582763672\n"
     ]
    }
   ],
   "source": [
    "#BFS Run Time\n",
    "start_time = time.time()\n",
    "bfs_path(small_maze,start,end)\n",
    "print(time.time() - start_time)"
   ]
  },
  {
   "cell_type": "code",
   "execution_count": 182,
   "metadata": {},
   "outputs": [
    {
     "name": "stdout",
     "output_type": "stream",
     "text": [
      "0  1  0  0  0  0  0  0  0  0\n",
      "0  1  1  1  1  1  1  0  0  0\n",
      "0  0  0  0  0  0  1  1  1  0\n",
      "0  0  0  0  0  0  0  0  1  0\n",
      "0  0  0  0  0  0  0  0  1  0\n",
      "0  0  0  0  0  0  0  0  1  0\n",
      "0  0  0  0  0  0  0  0  1  0\n",
      "0  0  0  0  0  0  0  0  1  0\n",
      "0  0  0  0  0  0  0  0  1  0\n",
      "0  0  0  0  0  0  0  0  1  0\n",
      "0.00021505355834960938\n"
     ]
    }
   ],
   "source": [
    "#DFS Run time\n",
    "start_time = time.time()\n",
    "dfs_path(small_maze,start,end)\n",
    "print((time.time() - start_time))"
   ]
  },
  {
   "cell_type": "code",
   "execution_count": 183,
   "metadata": {},
   "outputs": [
    {
     "name": "stdout",
     "output_type": "stream",
     "text": [
      "0  1  0  0  0  0  0  0  0  0\n",
      "0  1  1  1  1  1  1  0  0  0\n",
      "0  0  0  0  0  0  1  1  1  0\n",
      "0  0  0  0  0  0  0  0  1  0\n",
      "0  0  0  0  0  0  0  0  1  0\n",
      "0  0  0  0  0  0  0  0  1  0\n",
      "0  0  0  0  0  0  0  0  1  0\n",
      "0  0  0  0  0  0  0  0  1  0\n",
      "0  0  0  0  0  0  0  0  1  0\n",
      "0  0  0  0  0  0  0  0  1  0\n",
      "0.000308990478515625\n"
     ]
    }
   ],
   "source": [
    "#Dijkstra's Run time\n",
    "start_time = time.time()\n",
    "dijkstras_path(small_maze,start,end)\n",
    "print(time.time() - start_time)"
   ]
  },
  {
   "cell_type": "markdown",
   "metadata": {},
   "source": [
    "#### Time Comparison to solve a 10x10 maze"
   ]
  },
  {
   "cell_type": "markdown",
   "metadata": {},
   "source": [
    "| BFS | DFS | Dijkstra |\n",
    "| --- | --- | --- |\n",
    "| 0.00035 seconds | 0.00022 seconds | 0.00030 seconds |"
   ]
  },
  {
   "cell_type": "markdown",
   "metadata": {},
   "source": [
    "We see that DFS is still faster but the deviation between the other algorithms have shrunk"
   ]
  }
 ],
 "metadata": {
  "kernelspec": {
   "display_name": "Python 3",
   "language": "python",
   "name": "python3"
  },
  "language_info": {
   "codemirror_mode": {
    "name": "ipython",
    "version": 3
   },
   "file_extension": ".py",
   "mimetype": "text/x-python",
   "name": "python",
   "nbconvert_exporter": "python",
   "pygments_lexer": "ipython3",
   "version": "3.9.13"
  },
  "vscode": {
   "interpreter": {
    "hash": "b0fa6594d8f4cbf19f97940f81e996739fb7646882a419484c72d19e05852a7e"
   }
  }
 },
 "nbformat": 4,
 "nbformat_minor": 4
}
