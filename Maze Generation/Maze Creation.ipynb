{
 "cells": [
  {
   "cell_type": "code",
   "execution_count": 110,
   "metadata": {},
   "outputs": [],
   "source": [
    "import random"
   ]
  },
  {
   "cell_type": "code",
   "execution_count": 111,
   "metadata": {},
   "outputs": [],
   "source": [
    "# We need to make sure that every wall that we are going to move into, does not have more than one cell around it.\n",
    "#This function helps us do that\n",
    "\n",
    "# Find number of surrounding cells\n",
    "def surroundingcell_count(maze,wall):\n",
    "    cell_count = 0\n",
    "    if (maze[wall[0]-1][wall[1]] == '1'):\n",
    "        cell_count = cell_count + 1\n",
    "    if (maze[wall[0]+1][wall[1]] == '1'):\n",
    "        cell_count = cell_count + 1\n",
    "    if (maze[wall[0]][wall[1]-1] == '1'):\n",
    "        cell_count = cell_count + 1\n",
    "    if (maze[wall[0]][wall[1]+1] == '1'):\n",
    "        cell_count = cell_count + 1\n",
    "    return cell_count"
   ]
  },
  {
   "cell_type": "code",
   "execution_count": 112,
   "metadata": {},
   "outputs": [],
   "source": [
    "def build_maze(x,y):\n",
    "    \"\"\"\n",
    "    X is the Width of the maze and Y is the height of the maze\n",
    "    \n",
    "    \"\"\"\n",
    "\n",
    "    maze = []\n",
    "    \n",
    "    # Initalise the maze with height and width.\n",
    "    for i in range(0, x):\n",
    "        row = []\n",
    "        for j in range(0, y):\n",
    "            row.append('2')\n",
    "        maze.append(row)\n",
    "    \n",
    "    # Set a randomized starting point for the maze\n",
    "    s_x = int(random.random()*x)\n",
    "    s_y = int(random.random()*y)\n",
    "    \n",
    "    #conditions to modify the starting point so that we dont start on a point at the edge of the maze\n",
    "    if (s_x == 0):\n",
    "         s_x = s_x + 1\n",
    "    if (s_x == x-1):\n",
    "        s_x = s_x - 1\n",
    "    if (s_y == 0):\n",
    "        s_y = s_y + 1\n",
    "    if (s_y == y -1):\n",
    "        s_y = s_y - 1  \n",
    "    \n",
    "    # Mark this point as a cell and add surrounding walls to the cell\n",
    "    maze[s_x][s_y] = '1'\n",
    "    walls = []\n",
    "    walls = walls + [[s_x - 1, s_y]] + [[s_x, s_y - 1]] + [[s_x, s_y + 1]]+ [[s_x + 1, s_y]]\n",
    "    \n",
    "    #Set walls around this cell\n",
    "    for i in walls:\n",
    "        maze[i[0]][i[1]] = '0'\n",
    "        \n",
    "        \n",
    "    #We need to make sure that the surrounding cells around the wall are less than 2 otherwise the maze might get complex.\n",
    "    #So the check needs to be done for each type of wall (left,right,bottom or upper)\n",
    "\n",
    "    while (walls):\n",
    "        # Pick a random wall\n",
    "        rand_wall = walls[int(random.random()*len(walls))-1]\n",
    "\n",
    "        # Check if it is a left wall\n",
    "        if (rand_wall[1] != 0):\n",
    "            if (maze[rand_wall[0]][rand_wall[1]-1] == '2' and maze[rand_wall[0]][rand_wall[1]+1] == '1'):\n",
    "                # Find the number of surrounding cells\n",
    "                s_cells = surroundingcell_count(maze,rand_wall)\n",
    "\n",
    "                if (s_cells < 2):\n",
    "                    # Denote the new path\n",
    "                    maze[rand_wall[0]][rand_wall[1]] = '1'\n",
    "\n",
    "                    # Mark the new walls\n",
    "                    # Upper cell\n",
    "                    if (rand_wall[0] != 0):\n",
    "                        if (maze[rand_wall[0]-1][rand_wall[1]] != '1'):\n",
    "                            maze[rand_wall[0]-1][rand_wall[1]] = '0'\n",
    "                        if ([rand_wall[0]-1, rand_wall[1]] not in walls):\n",
    "                            walls.append([rand_wall[0]-1, rand_wall[1]])\n",
    "\n",
    "\n",
    "                    # Bottom cell\n",
    "                    if (rand_wall[0] != x-1):\n",
    "                        if (maze[rand_wall[0]+1][rand_wall[1]] != '1'):\n",
    "                            maze[rand_wall[0]+1][rand_wall[1]] = '0'\n",
    "                        if ([rand_wall[0]+1, rand_wall[1]] not in walls):\n",
    "                            walls.append([rand_wall[0]+1, rand_wall[1]])\n",
    "\n",
    "                    # Leftmost cell\n",
    "                    if (rand_wall[1] != 0):\t\n",
    "                        if (maze[rand_wall[0]][rand_wall[1]-1] != '1'):\n",
    "                            maze[rand_wall[0]][rand_wall[1]-1] = '0'\n",
    "                        if ([rand_wall[0], rand_wall[1]-1] not in walls):\n",
    "                            walls.append([rand_wall[0], rand_wall[1]-1])\n",
    "\n",
    "\n",
    "                # Delete wall\n",
    "                for wall in walls:\n",
    "                    if (wall[0] == rand_wall[0] and wall[1] == rand_wall[1]):\n",
    "                        walls.remove(wall)\n",
    "\n",
    "                continue\n",
    "\n",
    "        # Check if it is an upper wall\n",
    "        if (rand_wall[0] != 0):\n",
    "            if (maze[rand_wall[0]-1][rand_wall[1]] == '2' and maze[rand_wall[0]+1][rand_wall[1]] == '1'):\n",
    "\n",
    "                s_cells = surroundingcell_count(maze,rand_wall)\n",
    "                if (s_cells < 2):\n",
    "                    # Denote the new path\n",
    "                    maze[rand_wall[0]][rand_wall[1]] = '1'\n",
    "\n",
    "                    # Mark the new walls\n",
    "                    # Upper cell\n",
    "                    if (rand_wall[0] != 0):\n",
    "                        if (maze[rand_wall[0]-1][rand_wall[1]] != '1'):\n",
    "                            maze[rand_wall[0]-1][rand_wall[1]] = '0'\n",
    "                        if ([rand_wall[0]-1, rand_wall[1]] not in walls):\n",
    "                            walls.append([rand_wall[0]-1, rand_wall[1]])\n",
    "\n",
    "                    # Leftmost cell\n",
    "                    if (rand_wall[1] != 0):\n",
    "                        if (maze[rand_wall[0]][rand_wall[1]-1] != '1'):\n",
    "                            maze[rand_wall[0]][rand_wall[1]-1] = '0'\n",
    "                        if ([rand_wall[0], rand_wall[1]-1] not in walls):\n",
    "                            walls.append([rand_wall[0], rand_wall[1]-1])\n",
    "\n",
    "                    # Rightmost cell\n",
    "                    if (rand_wall[1] != y-1):\n",
    "                        if (maze[rand_wall[0]][rand_wall[1]+1] != '1'):\n",
    "                            maze[rand_wall[0]][rand_wall[1]+1] = '0'\n",
    "                        if ([rand_wall[0], rand_wall[1]+1] not in walls):\n",
    "                            walls.append([rand_wall[0], rand_wall[1]+1])\n",
    "\n",
    "                # Delete wall\n",
    "                for wall in walls:\n",
    "                    if (wall[0] == rand_wall[0] and wall[1] == rand_wall[1]):\n",
    "                        walls.remove(wall)\n",
    "\n",
    "                continue\n",
    "\n",
    "        # Check the bottom wall\n",
    "        if (rand_wall[0] != x-1):\n",
    "            if (maze[rand_wall[0]+1][rand_wall[1]] == '2' and maze[rand_wall[0]-1][rand_wall[1]] == '1'):\n",
    "\n",
    "                s_cells = surroundingcell_count(maze,rand_wall)\n",
    "                if (s_cells < 2):\n",
    "                    # Denote the new path\n",
    "                    maze[rand_wall[0]][rand_wall[1]] = '1'\n",
    "\n",
    "                    # Mark the new walls\n",
    "                    if (rand_wall[0] != x-1):\n",
    "                        if (maze[rand_wall[0]+1][rand_wall[1]] != '1'):\n",
    "                            maze[rand_wall[0]+1][rand_wall[1]] = '0'\n",
    "                        if ([rand_wall[0]+1, rand_wall[1]] not in walls):\n",
    "                            walls.append([rand_wall[0]+1, rand_wall[1]])\n",
    "                    if (rand_wall[1] != 0):\n",
    "                        if (maze[rand_wall[0]][rand_wall[1]-1] != '1'):\n",
    "                            maze[rand_wall[0]][rand_wall[1]-1] = '0'\n",
    "                        if ([rand_wall[0], rand_wall[1]-1] not in walls):\n",
    "                            walls.append([rand_wall[0], rand_wall[1]-1])\n",
    "                    if (rand_wall[1] != y-1):\n",
    "                        if (maze[rand_wall[0]][rand_wall[1]+1] != '1'):\n",
    "                            maze[rand_wall[0]][rand_wall[1]+1] = '0'\n",
    "                        if ([rand_wall[0], rand_wall[1]+1] not in walls):\n",
    "                            walls.append([rand_wall[0], rand_wall[1]+1])\n",
    "\n",
    "                # Delete wall\n",
    "                for wall in walls:\n",
    "                    if (wall[0] == rand_wall[0] and wall[1] == rand_wall[1]):\n",
    "                        walls.remove(wall)\n",
    "\n",
    "\n",
    "                continue\n",
    "\n",
    "        # Check the right wall\n",
    "        if (rand_wall[1] != y-1):\n",
    "            if (maze[rand_wall[0]][rand_wall[1]+1] == '2' and maze[rand_wall[0]][rand_wall[1]-1] == '1'):\n",
    "\n",
    "                s_cells = surroundingcell_count(maze,rand_wall)\n",
    "                if (s_cells < 2):\n",
    "                    # Denote the new path\n",
    "                    maze[rand_wall[0]][rand_wall[1]] = '1'\n",
    "\n",
    "                    # Mark the new walls\n",
    "                    if (rand_wall[1] != y-1):\n",
    "                        if (maze[rand_wall[0]][rand_wall[1]+1] != '1'):\n",
    "                            maze[rand_wall[0]][rand_wall[1]+1] = '0'\n",
    "                        if ([rand_wall[0], rand_wall[1]+1] not in walls):\n",
    "                            walls.append([rand_wall[0], rand_wall[1]+1])\n",
    "                    if (rand_wall[0] != x-1):\n",
    "                        if (maze[rand_wall[0]+1][rand_wall[1]] != '1'):\n",
    "                            maze[rand_wall[0]+1][rand_wall[1]] = '0'\n",
    "                        if ([rand_wall[0]+1, rand_wall[1]] not in walls):\n",
    "                            walls.append([rand_wall[0]+1, rand_wall[1]])\n",
    "                    if (rand_wall[0] != 0):\t\n",
    "                        if (maze[rand_wall[0]-1][rand_wall[1]] != '1'):\n",
    "                            maze[rand_wall[0]-1][rand_wall[1]] = '0'\n",
    "                        if ([rand_wall[0]-1, rand_wall[1]] not in walls):\n",
    "                            walls.append([rand_wall[0]-1, rand_wall[1]])\n",
    "\n",
    "                # Delete wall\n",
    "                for wall in walls:\n",
    "                    if (wall[0] == rand_wall[0] and wall[1] == rand_wall[1]):\n",
    "                        walls.remove(wall)\n",
    "\n",
    "                continue\n",
    "\n",
    "        # Delete the wall from the list anyway\n",
    "        for wall in walls:\n",
    "            if (wall[0] == rand_wall[0] and wall[1] == rand_wall[1]):\n",
    "                walls.remove(wall)\n",
    "\n",
    "    # Mark the remaining unvisited cells as walls\n",
    "    for i in range(0, x):\n",
    "        for j in range(0, y):\n",
    "            if (maze[i][j] == '2'):\n",
    "                maze[i][j] = '0'\n",
    "\n",
    "    # Set entrance for the maze\n",
    "    for i in range(0, y):\n",
    "        if (maze[1][i] == '1'):\n",
    "            maze[0][i] = '1'\n",
    "            break\n",
    "            \n",
    "    # Set exit for the maze\n",
    "    for i in range(y-1, 0, -1):\n",
    "        if (maze[x-2][i] == '1'):\n",
    "            maze[x-1][i] = '1'\n",
    "            break\n",
    "    \n",
    "    return maze"
   ]
  },
  {
   "cell_type": "code",
   "execution_count": 113,
   "metadata": {},
   "outputs": [
    {
     "data": {
      "text/plain": [
       "[['0', '1', '0', '0', '0'],\n",
       " ['0', '1', '0', '1', '0'],\n",
       " ['0', '1', '1', '1', '0'],\n",
       " ['0', '1', '0', '1', '0'],\n",
       " ['0', '0', '0', '1', '0']]"
      ]
     },
     "execution_count": 113,
     "metadata": {},
     "output_type": "execute_result"
    }
   ],
   "source": [
    "build_maze(5,5)"
   ]
  },
  {
   "cell_type": "code",
   "execution_count": 114,
   "metadata": {},
   "outputs": [
    {
     "data": {
      "text/plain": [
       "[['0', '1', '0', '0', '0', '0', '0', '0', '0', '0'],\n",
       " ['0', '1', '1', '1', '1', '1', '0', '1', '1', '0'],\n",
       " ['0', '0', '0', '1', '0', '0', '0', '1', '0', '0'],\n",
       " ['0', '0', '0', '1', '1', '1', '1', '1', '1', '0'],\n",
       " ['0', '1', '1', '1', '0', '0', '0', '0', '0', '0'],\n",
       " ['0', '0', '0', '1', '1', '1', '1', '0', '1', '0'],\n",
       " ['0', '1', '1', '1', '0', '0', '0', '0', '1', '0'],\n",
       " ['0', '0', '0', '1', '1', '1', '1', '1', '1', '0'],\n",
       " ['0', '1', '1', '1', '0', '0', '1', '0', '1', '0'],\n",
       " ['0', '0', '0', '0', '0', '0', '0', '0', '1', '0']]"
      ]
     },
     "execution_count": 114,
     "metadata": {},
     "output_type": "execute_result"
    }
   ],
   "source": [
    "build_maze(10,10)"
   ]
  },
  {
   "cell_type": "markdown",
   "metadata": {},
   "source": [
    "***\n",
    "# Solving the Maze using BFS\n",
    "\n",
    "Breadth-First Search (BSF) is an important graph search algorithm that is used to solve many problems finding the shortest path in a graph. You start from a selected node and traverse the graph layerwise, meaning you explore the neighbor nodes (directly connected to the source). Then you move to the next layer. \n",
    "\n",
    "### General BFS Algorithm: \n",
    "1. let Q be a queue\n",
    "2. label the root as explored\n",
    "3. Q.enqueue(root)\n",
    "4. while Q is not empty:\n",
    "    1. v := Q.dequeue()\n",
    "    2. if v is the goal then\n",
    "        1. return v\n",
    "    3. for all edges from v to w in G.adjacent(v):\n",
    "        1. if w is not labeled as explored then:\n",
    "            1. label w as explored\n",
    "            2. Q.enqueue(w)\n",
    "\n",
    "    Using the build_maze algorithm we get a random maze made up of a n * m matrix with 1's for spaces and 0's for walls\n",
    "\n",
    "    We are going to test a maze of 5 * 5 \n",
    "\n",
    "\n",
    "##### The algorithm to solve this maze:\n",
    "1. We find the start and end point of the given maze\n",
    "2. We are given a maze from our randomized maze function \n",
    "3. We create a new maze matrix of the same size that will be used to solve the maze given\n",
    "    1. We create a maze with zeros of the same size\n",
    "4. Put a 1 at our starting point that matches the starting point of the given maze\n",
    "    1. Everywhere around 1 we put a 2 if there is no wall\n",
    "    2. Everywhere around 2 we put a 3 if there is no wall and so on\n",
    "    3. Once we put a number at the end point we stop \n",
    "5. Use *BFS* to find the shortest path in our solved maze matrix\n",
    "    1. Go to the endpoint of the maze (the exit of the maze)\n",
    "    2. look at the neighboring cell with a k-1 value, decrease k by one\n",
    "    3. repeat until we get to the starting point\n",
    "\n",
    "\n",
    "\n",
    "*By Alexis Florence*"
   ]
  },
  {
   "cell_type": "markdown",
   "metadata": {},
   "source": [
    "### Get Random Maze"
   ]
  },
  {
   "cell_type": "code",
   "execution_count": 115,
   "metadata": {},
   "outputs": [
    {
     "name": "stdout",
     "output_type": "stream",
     "text": [
      "0  0  1  0  0\n",
      "0  0  1  0  0\n",
      "0  1  1  1  0\n",
      "0  1  0  1  0\n",
      "0  0  0  1  0\n"
     ]
    }
   ],
   "source": [
    "# BUILD OUR RANDOM MAZE\n",
    "\n",
    "maze = build_maze(5,5)\n",
    "maze_size = len(maze)\n",
    "\n",
    "for line in maze:\n",
    "    print ('  '.join(map(str, line)))"
   ]
  },
  {
   "cell_type": "markdown",
   "metadata": {},
   "source": [
    "### Helper Methods\n",
    "\n",
    "find_start_end\n",
    "\n",
    "create_new_solve_maze\n",
    "\n",
    "make_step\n",
    "\n"
   ]
  },
  {
   "cell_type": "code",
   "execution_count": 124,
   "metadata": {},
   "outputs": [],
   "source": [
    "# FIND THE START AND ENDPOINT OF THE RANDOM MAZE\n",
    "\n",
    "def find_start_end(maze):\n",
    "    start = 0,0\n",
    "    end = 0,0\n",
    "    # loop through the maze to find our start and end\n",
    "    for i in range(0,len(maze)): #rows\n",
    "        for j in range(0,len(maze[i])): #columns\n",
    "            if i == 0:\n",
    "                if maze[0][j] == '1':\n",
    "                    start = i,j\n",
    "            elif i == maze_size - 1:\n",
    "                if maze[maze_size - 1][j] == '1':\n",
    "                    end = i,j\n",
    "    return start, end\n",
    "\n",
    "        "
   ]
  },
  {
   "cell_type": "code",
   "execution_count": 117,
   "metadata": {},
   "outputs": [
    {
     "name": "stdout",
     "output_type": "stream",
     "text": [
      "Our starting point (0, 2)\n",
      "Our end point (4, 3)\n"
     ]
    }
   ],
   "source": [
    "start, end = find_start_end(maze)\n",
    "\n",
    "print('Our starting point', start)\n",
    "print('Our end point', end)"
   ]
  },
  {
   "cell_type": "code",
   "execution_count": 118,
   "metadata": {},
   "outputs": [],
   "source": [
    "# CREATE A NEW MAZE THAT WILL BE USED TO SOLVE THE GIVEN MAZE\n",
    "\n",
    "def create_new_solve_maze(maze):\n",
    "    solved_maze = []\n",
    "    for i in range(len(maze)):\n",
    "        solved_maze.append([])\n",
    "        for j in range(len(maze[i])):\n",
    "            solved_maze[-1].append(0)\n",
    "\n",
    "    # initialize the start of the maze as 1\n",
    "    i,j = start\n",
    "    solved_maze[i][j] = 1\n",
    "\n",
    "    return solved_maze"
   ]
  },
  {
   "cell_type": "code",
   "execution_count": 119,
   "metadata": {},
   "outputs": [
    {
     "name": "stdout",
     "output_type": "stream",
     "text": [
      "[0, 0, 1, 0, 0]\n",
      "[0, 0, 0, 0, 0]\n",
      "[0, 0, 0, 0, 0]\n",
      "[0, 0, 0, 0, 0]\n",
      "[0, 0, 0, 0, 0]\n"
     ]
    }
   ],
   "source": [
    "solved_maze = create_new_solve_maze(maze)\n",
    "\n",
    "for i in range(0,len(solved_maze)):\n",
    "    print(solved_maze[i])"
   ]
  },
  {
   "cell_type": "code",
   "execution_count": 120,
   "metadata": {},
   "outputs": [],
   "source": [
    "# FUNCTION TO STEP THROUGH THE MAZE\n",
    "\n",
    "def make_step(k):\n",
    "  for i in range(len(solved_maze)):\n",
    "    for j in range(len(solved_maze[i])):\n",
    "      # if the cell corresponds to the letter k (the step through the maze that we are on)\n",
    "      if solved_maze[i][j] == k:\n",
    "        # if there is a row above, if the spot above has not been visited, and the original maze isn't a wall above\n",
    "        if i > 0 and solved_maze[i - 1][j] == 0 and maze[i-1][j] == '1':\n",
    "          solved_maze[i - 1][j] = k + 1\n",
    "        # if there is a column to the left, if the spot to the left has not been visisted, and the original maze isn't a wall there\n",
    "        if j > 0 and solved_maze[i][j-1] == 0 and maze[i][j-1] == '1':\n",
    "          solved_maze[i][j - 1] = k + 1\n",
    "        # if there is a row below and it has not been visited yet, and the original maze is not a wall\n",
    "        if i < len(solved_maze) - 1 and solved_maze[i + 1][j] == 0 and maze[i + 1][j] == '1':\n",
    "          solved_maze[i+1][j] = k + 1\n",
    "        if j < len(solved_maze[i]) - 1 and solved_maze[i][j + 1] == 0 and maze[i][j +1 ] == '1':\n",
    "           solved_maze[i][j + 1] = k + 1\n"
   ]
  },
  {
   "cell_type": "code",
   "execution_count": 121,
   "metadata": {},
   "outputs": [
    {
     "name": "stdout",
     "output_type": "stream",
     "text": [
      "[0, 0, 1, 0, 0]\n",
      "[0, 0, 2, 0, 0]\n",
      "[0, 4, 3, 4, 0]\n",
      "[0, 5, 0, 5, 0]\n",
      "[0, 0, 0, 6, 0]\n"
     ]
    }
   ],
   "source": [
    "k = 0\n",
    "while solved_maze[end[0]][end[1]] == 0:\n",
    "    k += 1\n",
    "    make_step(k)\n",
    "\n",
    "# print the matrix to show the start\n",
    "for i in range(0,len(solved_maze)):\n",
    "    print(solved_maze[i])"
   ]
  },
  {
   "cell_type": "markdown",
   "metadata": {},
   "source": [
    "### Using BFS Method"
   ]
  },
  {
   "cell_type": "code",
   "execution_count": 122,
   "metadata": {},
   "outputs": [
    {
     "name": "stdout",
     "output_type": "stream",
     "text": [
      "[(4, 3), (3, 3), (2, 3), (2, 2), (1, 2), (0, 2)]\n"
     ]
    }
   ],
   "source": [
    "# USE BFS TO FIND THE SHORTEST PATH THROUGH THE MAZE\n",
    "\n",
    "def bfs_shortest_path(solved_maze):\n",
    "  i, j = end\n",
    "  k = solved_maze[i][j]\n",
    "  # we start at the end of the maze\n",
    "  # the path is our queue data structure \n",
    "  the_path = [(i,j)]\n",
    "  # while the cell we are in are not the start:\n",
    "  while k > 1:\n",
    "    if i > 0 and solved_maze[i - 1][j] == k - 1:\n",
    "      i, j = i-1, j\n",
    "      the_path.append((i, j))\n",
    "      k-=1\n",
    "    elif j > 0 and solved_maze[i][j - 1] == k - 1:\n",
    "      i, j = i, j-1\n",
    "      the_path.append((i, j))\n",
    "      k-=1\n",
    "    elif i < len(solved_maze) - 1 and solved_maze[i + 1][j] == k - 1:\n",
    "      i, j = i+1, j\n",
    "      the_path.append((i, j))\n",
    "      k-=1\n",
    "    elif j < len(solved_maze[i]) - 1 and solved_maze[i][j + 1] == k - 1:\n",
    "      i, j = i, j+1\n",
    "      the_path.append((i, j))\n",
    "      k -= 1\n",
    "    \n",
    "    return the_path"
   ]
  },
  {
   "cell_type": "code",
   "execution_count": null,
   "metadata": {},
   "outputs": [],
   "source": [
    "the_path = bfs_shortest_path(solved_maze)\n",
    "\n",
    "print(the_path)"
   ]
  },
  {
   "cell_type": "markdown",
   "metadata": {},
   "source": [
    "**Runtime for BFS Algorithm** \n",
    "\n",
    "Time complexity for our BFS algorithm is O(m^2)\n",
    "\n",
    "Because we are using a adjacency matrix\n"
   ]
  },
  {
   "cell_type": "markdown",
   "metadata": {},
   "source": [
    "### Print Final"
   ]
  },
  {
   "cell_type": "code",
   "execution_count": 123,
   "metadata": {},
   "outputs": [
    {
     "name": "stdout",
     "output_type": "stream",
     "text": [
      "[0, 0, 1, 0, 0]\n",
      "[0, 0, 1, 0, 0]\n",
      "[0, 0, 1, 1, 0]\n",
      "[0, 0, 0, 1, 0]\n",
      "[0, 0, 0, 1, 0]\n"
     ]
    }
   ],
   "source": [
    "# PRINT THE FINAL MAZE SOLUTION\n",
    "\n",
    "final_maze_solution = []\n",
    "i = 0\n",
    "j = 0\n",
    "\n",
    "for i in range(len(maze)):\n",
    "    final_maze_solution.append([])\n",
    "    for j in range(len(maze[i])):\n",
    "        final_maze_solution[-1].append(0)\n",
    "\n",
    "for i in range(len(solved_maze)):\n",
    "    for j in range(len(solved_maze[i])):\n",
    "        if (i,j) in the_path:\n",
    "            final_maze_solution[i][j] = 1\n",
    "        else: \n",
    "            final_maze_solution[i][j] = 0\n",
    "\n",
    "for i in range(0,len(final_maze_solution)):\n",
    "    print(final_maze_solution[i])           \n"
   ]
  }
 ],
 "metadata": {
  "kernelspec": {
   "display_name": "Python 3.9.13 64-bit",
   "language": "python",
   "name": "python3"
  },
  "language_info": {
   "codemirror_mode": {
    "name": "ipython",
    "version": 3
   },
   "file_extension": ".py",
   "mimetype": "text/x-python",
   "name": "python",
   "nbconvert_exporter": "python",
   "pygments_lexer": "ipython3",
   "version": "3.9.13"
  },
  "vscode": {
   "interpreter": {
    "hash": "b0fa6594d8f4cbf19f97940f81e996739fb7646882a419484c72d19e05852a7e"
   }
  }
 },
 "nbformat": 4,
 "nbformat_minor": 4
}
